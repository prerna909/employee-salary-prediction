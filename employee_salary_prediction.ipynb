{
 "cells": [
  {
   "cell_type": "markdown",
   "id": "032e56a9",
   "metadata": {},
   "source": [
    "# Employee Salary Prediction"
   ]
  },
  {
   "cell_type": "markdown",
   "id": "150771fe",
   "metadata": {},
   "source": [
    "    - Objective is to find employee salary based on years of experience\n",
    "    - Make use of Simple Linear Regression\n",
    "    - AWS Linear Learner Algorithm will be used for the same"
   ]
  },
  {
   "cell_type": "code",
   "execution_count": 1,
   "id": "e42ae972",
   "metadata": {},
   "outputs": [],
   "source": [
    "import pandas as pd\n",
    "import numpy as np\n",
    "import seaborn as sns\n",
    "import matplotlib.pyplot as plt"
   ]
  },
  {
   "cell_type": "code",
   "execution_count": 2,
   "id": "4ed0e120",
   "metadata": {},
   "outputs": [],
   "source": [
    "# read the csv file\n",
    "salary_df = pd.read_csv('salary.csv')"
   ]
  },
  {
   "cell_type": "code",
   "execution_count": 3,
   "id": "dd7ca3c7",
   "metadata": {},
   "outputs": [
    {
     "data": {
      "text/html": [
       "<div>\n",
       "<style scoped>\n",
       "    .dataframe tbody tr th:only-of-type {\n",
       "        vertical-align: middle;\n",
       "    }\n",
       "\n",
       "    .dataframe tbody tr th {\n",
       "        vertical-align: top;\n",
       "    }\n",
       "\n",
       "    .dataframe thead th {\n",
       "        text-align: right;\n",
       "    }\n",
       "</style>\n",
       "<table border=\"1\" class=\"dataframe\">\n",
       "  <thead>\n",
       "    <tr style=\"text-align: right;\">\n",
       "      <th></th>\n",
       "      <th>YearsExperience</th>\n",
       "      <th>Salary</th>\n",
       "    </tr>\n",
       "  </thead>\n",
       "  <tbody>\n",
       "    <tr>\n",
       "      <th>0</th>\n",
       "      <td>1.1</td>\n",
       "      <td>39343</td>\n",
       "    </tr>\n",
       "    <tr>\n",
       "      <th>1</th>\n",
       "      <td>1.3</td>\n",
       "      <td>46205</td>\n",
       "    </tr>\n",
       "    <tr>\n",
       "      <th>2</th>\n",
       "      <td>1.5</td>\n",
       "      <td>37731</td>\n",
       "    </tr>\n",
       "    <tr>\n",
       "      <th>3</th>\n",
       "      <td>2.0</td>\n",
       "      <td>43525</td>\n",
       "    </tr>\n",
       "    <tr>\n",
       "      <th>4</th>\n",
       "      <td>2.2</td>\n",
       "      <td>39891</td>\n",
       "    </tr>\n",
       "    <tr>\n",
       "      <th>5</th>\n",
       "      <td>2.9</td>\n",
       "      <td>56642</td>\n",
       "    </tr>\n",
       "    <tr>\n",
       "      <th>6</th>\n",
       "      <td>3.0</td>\n",
       "      <td>60150</td>\n",
       "    </tr>\n",
       "    <tr>\n",
       "      <th>7</th>\n",
       "      <td>3.2</td>\n",
       "      <td>54445</td>\n",
       "    </tr>\n",
       "    <tr>\n",
       "      <th>8</th>\n",
       "      <td>3.2</td>\n",
       "      <td>64445</td>\n",
       "    </tr>\n",
       "    <tr>\n",
       "      <th>9</th>\n",
       "      <td>3.7</td>\n",
       "      <td>57189</td>\n",
       "    </tr>\n",
       "    <tr>\n",
       "      <th>10</th>\n",
       "      <td>3.9</td>\n",
       "      <td>63218</td>\n",
       "    </tr>\n",
       "    <tr>\n",
       "      <th>11</th>\n",
       "      <td>4.0</td>\n",
       "      <td>55794</td>\n",
       "    </tr>\n",
       "    <tr>\n",
       "      <th>12</th>\n",
       "      <td>4.0</td>\n",
       "      <td>56957</td>\n",
       "    </tr>\n",
       "    <tr>\n",
       "      <th>13</th>\n",
       "      <td>4.1</td>\n",
       "      <td>57081</td>\n",
       "    </tr>\n",
       "    <tr>\n",
       "      <th>14</th>\n",
       "      <td>4.5</td>\n",
       "      <td>61111</td>\n",
       "    </tr>\n",
       "    <tr>\n",
       "      <th>15</th>\n",
       "      <td>4.9</td>\n",
       "      <td>67938</td>\n",
       "    </tr>\n",
       "    <tr>\n",
       "      <th>16</th>\n",
       "      <td>5.1</td>\n",
       "      <td>66029</td>\n",
       "    </tr>\n",
       "    <tr>\n",
       "      <th>17</th>\n",
       "      <td>5.3</td>\n",
       "      <td>83088</td>\n",
       "    </tr>\n",
       "    <tr>\n",
       "      <th>18</th>\n",
       "      <td>5.9</td>\n",
       "      <td>81363</td>\n",
       "    </tr>\n",
       "    <tr>\n",
       "      <th>19</th>\n",
       "      <td>6.0</td>\n",
       "      <td>93940</td>\n",
       "    </tr>\n",
       "    <tr>\n",
       "      <th>20</th>\n",
       "      <td>6.8</td>\n",
       "      <td>91738</td>\n",
       "    </tr>\n",
       "    <tr>\n",
       "      <th>21</th>\n",
       "      <td>7.1</td>\n",
       "      <td>98273</td>\n",
       "    </tr>\n",
       "    <tr>\n",
       "      <th>22</th>\n",
       "      <td>7.9</td>\n",
       "      <td>101302</td>\n",
       "    </tr>\n",
       "    <tr>\n",
       "      <th>23</th>\n",
       "      <td>8.2</td>\n",
       "      <td>113812</td>\n",
       "    </tr>\n",
       "    <tr>\n",
       "      <th>24</th>\n",
       "      <td>8.7</td>\n",
       "      <td>109431</td>\n",
       "    </tr>\n",
       "    <tr>\n",
       "      <th>25</th>\n",
       "      <td>9.0</td>\n",
       "      <td>105582</td>\n",
       "    </tr>\n",
       "    <tr>\n",
       "      <th>26</th>\n",
       "      <td>9.5</td>\n",
       "      <td>116969</td>\n",
       "    </tr>\n",
       "    <tr>\n",
       "      <th>27</th>\n",
       "      <td>9.6</td>\n",
       "      <td>112635</td>\n",
       "    </tr>\n",
       "    <tr>\n",
       "      <th>28</th>\n",
       "      <td>10.3</td>\n",
       "      <td>122391</td>\n",
       "    </tr>\n",
       "    <tr>\n",
       "      <th>29</th>\n",
       "      <td>10.5</td>\n",
       "      <td>121872</td>\n",
       "    </tr>\n",
       "    <tr>\n",
       "      <th>30</th>\n",
       "      <td>11.2</td>\n",
       "      <td>127345</td>\n",
       "    </tr>\n",
       "    <tr>\n",
       "      <th>31</th>\n",
       "      <td>11.5</td>\n",
       "      <td>126756</td>\n",
       "    </tr>\n",
       "    <tr>\n",
       "      <th>32</th>\n",
       "      <td>12.3</td>\n",
       "      <td>128765</td>\n",
       "    </tr>\n",
       "    <tr>\n",
       "      <th>33</th>\n",
       "      <td>12.9</td>\n",
       "      <td>135675</td>\n",
       "    </tr>\n",
       "    <tr>\n",
       "      <th>34</th>\n",
       "      <td>13.5</td>\n",
       "      <td>139465</td>\n",
       "    </tr>\n",
       "  </tbody>\n",
       "</table>\n",
       "</div>"
      ],
      "text/plain": [
       "    YearsExperience  Salary\n",
       "0               1.1   39343\n",
       "1               1.3   46205\n",
       "2               1.5   37731\n",
       "3               2.0   43525\n",
       "4               2.2   39891\n",
       "5               2.9   56642\n",
       "6               3.0   60150\n",
       "7               3.2   54445\n",
       "8               3.2   64445\n",
       "9               3.7   57189\n",
       "10              3.9   63218\n",
       "11              4.0   55794\n",
       "12              4.0   56957\n",
       "13              4.1   57081\n",
       "14              4.5   61111\n",
       "15              4.9   67938\n",
       "16              5.1   66029\n",
       "17              5.3   83088\n",
       "18              5.9   81363\n",
       "19              6.0   93940\n",
       "20              6.8   91738\n",
       "21              7.1   98273\n",
       "22              7.9  101302\n",
       "23              8.2  113812\n",
       "24              8.7  109431\n",
       "25              9.0  105582\n",
       "26              9.5  116969\n",
       "27              9.6  112635\n",
       "28             10.3  122391\n",
       "29             10.5  121872\n",
       "30             11.2  127345\n",
       "31             11.5  126756\n",
       "32             12.3  128765\n",
       "33             12.9  135675\n",
       "34             13.5  139465"
      ]
     },
     "execution_count": 3,
     "metadata": {},
     "output_type": "execute_result"
    }
   ],
   "source": [
    "salary_df"
   ]
  },
  {
   "cell_type": "code",
   "execution_count": 4,
   "id": "c6c400fe",
   "metadata": {},
   "outputs": [
    {
     "data": {
      "text/html": [
       "<div>\n",
       "<style scoped>\n",
       "    .dataframe tbody tr th:only-of-type {\n",
       "        vertical-align: middle;\n",
       "    }\n",
       "\n",
       "    .dataframe tbody tr th {\n",
       "        vertical-align: top;\n",
       "    }\n",
       "\n",
       "    .dataframe thead th {\n",
       "        text-align: right;\n",
       "    }\n",
       "</style>\n",
       "<table border=\"1\" class=\"dataframe\">\n",
       "  <thead>\n",
       "    <tr style=\"text-align: right;\">\n",
       "      <th></th>\n",
       "      <th>YearsExperience</th>\n",
       "      <th>Salary</th>\n",
       "    </tr>\n",
       "  </thead>\n",
       "  <tbody>\n",
       "    <tr>\n",
       "      <th>0</th>\n",
       "      <td>1.1</td>\n",
       "      <td>39343</td>\n",
       "    </tr>\n",
       "    <tr>\n",
       "      <th>1</th>\n",
       "      <td>1.3</td>\n",
       "      <td>46205</td>\n",
       "    </tr>\n",
       "    <tr>\n",
       "      <th>2</th>\n",
       "      <td>1.5</td>\n",
       "      <td>37731</td>\n",
       "    </tr>\n",
       "    <tr>\n",
       "      <th>3</th>\n",
       "      <td>2.0</td>\n",
       "      <td>43525</td>\n",
       "    </tr>\n",
       "    <tr>\n",
       "      <th>4</th>\n",
       "      <td>2.2</td>\n",
       "      <td>39891</td>\n",
       "    </tr>\n",
       "    <tr>\n",
       "      <th>5</th>\n",
       "      <td>2.9</td>\n",
       "      <td>56642</td>\n",
       "    </tr>\n",
       "    <tr>\n",
       "      <th>6</th>\n",
       "      <td>3.0</td>\n",
       "      <td>60150</td>\n",
       "    </tr>\n",
       "  </tbody>\n",
       "</table>\n",
       "</div>"
      ],
      "text/plain": [
       "   YearsExperience  Salary\n",
       "0              1.1   39343\n",
       "1              1.3   46205\n",
       "2              1.5   37731\n",
       "3              2.0   43525\n",
       "4              2.2   39891\n",
       "5              2.9   56642\n",
       "6              3.0   60150"
      ]
     },
     "execution_count": 4,
     "metadata": {},
     "output_type": "execute_result"
    }
   ],
   "source": [
    "salary_df.head(7) # first 7 entries"
   ]
  },
  {
   "cell_type": "code",
   "execution_count": 5,
   "id": "462666eb",
   "metadata": {},
   "outputs": [
    {
     "data": {
      "text/html": [
       "<div>\n",
       "<style scoped>\n",
       "    .dataframe tbody tr th:only-of-type {\n",
       "        vertical-align: middle;\n",
       "    }\n",
       "\n",
       "    .dataframe tbody tr th {\n",
       "        vertical-align: top;\n",
       "    }\n",
       "\n",
       "    .dataframe thead th {\n",
       "        text-align: right;\n",
       "    }\n",
       "</style>\n",
       "<table border=\"1\" class=\"dataframe\">\n",
       "  <thead>\n",
       "    <tr style=\"text-align: right;\">\n",
       "      <th></th>\n",
       "      <th>YearsExperience</th>\n",
       "      <th>Salary</th>\n",
       "    </tr>\n",
       "  </thead>\n",
       "  <tbody>\n",
       "    <tr>\n",
       "      <th>28</th>\n",
       "      <td>10.3</td>\n",
       "      <td>122391</td>\n",
       "    </tr>\n",
       "    <tr>\n",
       "      <th>29</th>\n",
       "      <td>10.5</td>\n",
       "      <td>121872</td>\n",
       "    </tr>\n",
       "    <tr>\n",
       "      <th>30</th>\n",
       "      <td>11.2</td>\n",
       "      <td>127345</td>\n",
       "    </tr>\n",
       "    <tr>\n",
       "      <th>31</th>\n",
       "      <td>11.5</td>\n",
       "      <td>126756</td>\n",
       "    </tr>\n",
       "    <tr>\n",
       "      <th>32</th>\n",
       "      <td>12.3</td>\n",
       "      <td>128765</td>\n",
       "    </tr>\n",
       "    <tr>\n",
       "      <th>33</th>\n",
       "      <td>12.9</td>\n",
       "      <td>135675</td>\n",
       "    </tr>\n",
       "    <tr>\n",
       "      <th>34</th>\n",
       "      <td>13.5</td>\n",
       "      <td>139465</td>\n",
       "    </tr>\n",
       "  </tbody>\n",
       "</table>\n",
       "</div>"
      ],
      "text/plain": [
       "    YearsExperience  Salary\n",
       "28             10.3  122391\n",
       "29             10.5  121872\n",
       "30             11.2  127345\n",
       "31             11.5  126756\n",
       "32             12.3  128765\n",
       "33             12.9  135675\n",
       "34             13.5  139465"
      ]
     },
     "execution_count": 5,
     "metadata": {},
     "output_type": "execute_result"
    }
   ],
   "source": [
    "salary_df.tail(7) # last 7 entries"
   ]
  },
  {
   "cell_type": "code",
   "execution_count": 6,
   "id": "8110eaa4",
   "metadata": {},
   "outputs": [
    {
     "data": {
      "text/plain": [
       "139465"
      ]
     },
     "execution_count": 6,
     "metadata": {},
     "output_type": "execute_result"
    }
   ],
   "source": [
    "salary_df['Salary'].max() # max salary"
   ]
  },
  {
   "cell_type": "markdown",
   "id": "d31667b3",
   "metadata": {},
   "source": [
    "#  Perform Data analysis and visualization"
   ]
  },
  {
   "cell_type": "code",
   "execution_count": 7,
   "id": "08f96280",
   "metadata": {},
   "outputs": [
    {
     "data": {
      "text/plain": [
       "<Axes: >"
      ]
     },
     "execution_count": 7,
     "metadata": {},
     "output_type": "execute_result"
    },
    {
     "data": {
      "image/png": "[encoded data removed]",
      "text/plain": [
       "<Figure size 640x480 with 1 Axes>"
      ]
     },
     "metadata": {},
     "output_type": "display_data"
    }
   ],
   "source": [
    "sns.heatmap(salary_df.isnull(), yticklabels = False, cbar = False, cmap = \"Blues\")"
   ]
  },
  {
   "cell_type": "markdown",
   "id": "9dd60702",
   "metadata": {},
   "source": []
  },
  {
   "cell_type": "markdown",
   "id": "712740e5",
   "metadata": {},
   "source": [
    "1. Above line generates a heatmap that visually represents the presence of missing data in your salary_df DataFrame\n",
    "2. Cells colored in darker shades of blue indicate missing data (NaN values).\n",
    "3. Cells in lighter shades or white represent non-missing data (valid entries).\n",
    "4. Since there are no darker shades of blue present it means we do not have any missing data."
   ]
  },
  {
   "cell_type": "code",
   "execution_count": 8,
   "id": "8bd8b5cc",
   "metadata": {},
   "outputs": [
    {
     "name": "stdout",
     "output_type": "stream",
     "text": [
      "<class 'pandas.core.frame.DataFrame'>\n",
      "RangeIndex: 35 entries, 0 to 34\n",
      "Data columns (total 2 columns):\n",
      " #   Column           Non-Null Count  Dtype  \n",
      "---  ------           --------------  -----  \n",
      " 0   YearsExperience  35 non-null     float64\n",
      " 1   Salary           35 non-null     int64  \n",
      "dtypes: float64(1), int64(1)\n",
      "memory usage: 688.0 bytes\n"
     ]
    }
   ],
   "source": [
    "salary_df.info()"
   ]
  },
  {
   "cell_type": "code",
   "execution_count": 9,
   "id": "88894ec5",
   "metadata": {},
   "outputs": [
    {
     "data": {
      "text/html": [
       "<div>\n",
       "<style scoped>\n",
       "    .dataframe tbody tr th:only-of-type {\n",
       "        vertical-align: middle;\n",
       "    }\n",
       "\n",
       "    .dataframe tbody tr th {\n",
       "        vertical-align: top;\n",
       "    }\n",
       "\n",
       "    .dataframe thead th {\n",
       "        text-align: right;\n",
       "    }\n",
       "</style>\n",
       "<table border=\"1\" class=\"dataframe\">\n",
       "  <thead>\n",
       "    <tr style=\"text-align: right;\">\n",
       "      <th></th>\n",
       "      <th>YearsExperience</th>\n",
       "      <th>Salary</th>\n",
       "    </tr>\n",
       "  </thead>\n",
       "  <tbody>\n",
       "    <tr>\n",
       "      <th>count</th>\n",
       "      <td>35.000000</td>\n",
       "      <td>35.000000</td>\n",
       "    </tr>\n",
       "    <tr>\n",
       "      <th>mean</th>\n",
       "      <td>6.308571</td>\n",
       "      <td>83945.600000</td>\n",
       "    </tr>\n",
       "    <tr>\n",
       "      <th>std</th>\n",
       "      <td>3.618610</td>\n",
       "      <td>32162.673003</td>\n",
       "    </tr>\n",
       "    <tr>\n",
       "      <th>min</th>\n",
       "      <td>1.100000</td>\n",
       "      <td>37731.000000</td>\n",
       "    </tr>\n",
       "    <tr>\n",
       "      <th>25%</th>\n",
       "      <td>3.450000</td>\n",
       "      <td>57019.000000</td>\n",
       "    </tr>\n",
       "    <tr>\n",
       "      <th>50%</th>\n",
       "      <td>5.300000</td>\n",
       "      <td>81363.000000</td>\n",
       "    </tr>\n",
       "    <tr>\n",
       "      <th>75%</th>\n",
       "      <td>9.250000</td>\n",
       "      <td>113223.500000</td>\n",
       "    </tr>\n",
       "    <tr>\n",
       "      <th>max</th>\n",
       "      <td>13.500000</td>\n",
       "      <td>139465.000000</td>\n",
       "    </tr>\n",
       "  </tbody>\n",
       "</table>\n",
       "</div>"
      ],
      "text/plain": [
       "       YearsExperience         Salary\n",
       "count        35.000000      35.000000\n",
       "mean          6.308571   83945.600000\n",
       "std           3.618610   32162.673003\n",
       "min           1.100000   37731.000000\n",
       "25%           3.450000   57019.000000\n",
       "50%           5.300000   81363.000000\n",
       "75%           9.250000  113223.500000\n",
       "max          13.500000  139465.000000"
      ]
     },
     "execution_count": 9,
     "metadata": {},
     "output_type": "execute_result"
    }
   ],
   "source": [
    "salary_df.describe()"
   ]
  },
  {
   "cell_type": "code",
   "execution_count": 12,
   "id": "6eed4f05",
   "metadata": {},
   "outputs": [
    {
     "data": {
      "text/html": [
       "<div>\n",
       "<style scoped>\n",
       "    .dataframe tbody tr th:only-of-type {\n",
       "        vertical-align: middle;\n",
       "    }\n",
       "\n",
       "    .dataframe tbody tr th {\n",
       "        vertical-align: top;\n",
       "    }\n",
       "\n",
       "    .dataframe thead th {\n",
       "        text-align: right;\n",
       "    }\n",
       "</style>\n",
       "<table border=\"1\" class=\"dataframe\">\n",
       "  <thead>\n",
       "    <tr style=\"text-align: right;\">\n",
       "      <th></th>\n",
       "      <th>YearsExperience</th>\n",
       "      <th>Salary</th>\n",
       "    </tr>\n",
       "  </thead>\n",
       "  <tbody>\n",
       "    <tr>\n",
       "      <th>34</th>\n",
       "      <td>13.5</td>\n",
       "      <td>139465</td>\n",
       "    </tr>\n",
       "  </tbody>\n",
       "</table>\n",
       "</div>"
      ],
      "text/plain": [
       "    YearsExperience  Salary\n",
       "34             13.5  139465"
      ]
     },
     "execution_count": 12,
     "metadata": {},
     "output_type": "execute_result"
    }
   ],
   "source": [
    "# The number of years of experience for max salaried employees\n",
    "max = salary_df[salary_df['Salary'] == salary_df['Salary'].max()]\n",
    "max"
   ]
  },
  {
   "cell_type": "code",
   "execution_count": 13,
   "id": "16414f03",
   "metadata": {},
   "outputs": [
    {
     "data": {
      "text/html": [
       "<div>\n",
       "<style scoped>\n",
       "    .dataframe tbody tr th:only-of-type {\n",
       "        vertical-align: middle;\n",
       "    }\n",
       "\n",
       "    .dataframe tbody tr th {\n",
       "        vertical-align: top;\n",
       "    }\n",
       "\n",
       "    .dataframe thead th {\n",
       "        text-align: right;\n",
       "    }\n",
       "</style>\n",
       "<table border=\"1\" class=\"dataframe\">\n",
       "  <thead>\n",
       "    <tr style=\"text-align: right;\">\n",
       "      <th></th>\n",
       "      <th>YearsExperience</th>\n",
       "      <th>Salary</th>\n",
       "    </tr>\n",
       "  </thead>\n",
       "  <tbody>\n",
       "    <tr>\n",
       "      <th>2</th>\n",
       "      <td>1.5</td>\n",
       "      <td>37731</td>\n",
       "    </tr>\n",
       "  </tbody>\n",
       "</table>\n",
       "</div>"
      ],
      "text/plain": [
       "   YearsExperience  Salary\n",
       "2              1.5   37731"
      ]
     },
     "execution_count": 13,
     "metadata": {},
     "output_type": "execute_result"
    }
   ],
   "source": [
    "# The number of years of experience for min salaried employees\n",
    "min = salary_df[salary_df['Salary'] == salary_df['Salary'].min()]\n",
    "min"
   ]
  },
  {
   "cell_type": "code",
   "execution_count": 16,
   "id": "cfbc4f99",
   "metadata": {},
   "outputs": [
    {
     "data": {
      "text/plain": [
       "array([[<Axes: title={'center': 'YearsExperience'}>,\n",
       "        <Axes: title={'center': 'Salary'}>]], dtype=object)"
      ]
     },
     "execution_count": 16,
     "metadata": {},
     "output_type": "execute_result"
    },
    {
     "data": {
      "image/png": "[encoded data removed]",
      "text/plain": [
       "<Figure size 2000x1000 with 2 Axes>"
      ]
     },
     "metadata": {},
     "output_type": "display_data"
    }
   ],
   "source": [
    "salary_df.hist(bins = 30, figsize = (20, 10), color='b')"
   ]
  },
  {
   "cell_type": "markdown",
   "id": "b410cec1",
   "metadata": {},
   "source": [
    "1. Above line creates a histogram for each numerical column in the salary_df DataFrame.\n",
    "2. Histograms are used for visualizing the distribution of data within a single variable. You can see if the data is normally distributed, skewed, or has any outliers."
   ]
  },
  {
   "cell_type": "code",
   "execution_count": 17,
   "id": "5fdbc006",
   "metadata": {},
   "outputs": [
    {
     "data": {
      "text/plain": [
       "<seaborn.axisgrid.PairGrid at 0x7ff8f5ec0f70>"
      ]
     },
     "execution_count": 17,
     "metadata": {},
     "output_type": "execute_result"
    },
    {
     "data": {
      "image/png": "[encoded data removed]",
      "text/plain": [
       "<Figure size 500x500 with 6 Axes>"
      ]
     },
     "metadata": {},
     "output_type": "display_data"
    }
   ],
   "source": [
    "sns.pairplot(salary_df)"
   ]
  },
  {
   "cell_type": "markdown",
   "id": "ffab7bf0",
   "metadata": {},
   "source": [
    "1. A pair plot is a grid of scatterplots that shows the relationships between all pairs of variables in a DataFrame.\n",
    "2. This function generates a pair plot, which is a matrix of scatterplots. Each cell in the matrix represents a scatterplot of one variable against another."
   ]
  },
  {
   "cell_type": "code",
   "execution_count": 18,
   "id": "2d3c5f08",
   "metadata": {},
   "outputs": [
    {
     "data": {
      "image/png": "[encoded data removed]",
      "text/plain": [
       "<Figure size 640x480 with 2 Axes>"
      ]
     },
     "metadata": {},
     "output_type": "display_data"
    }
   ],
   "source": [
    "corr_matrix = salary_df.corr()\n",
    "sns.heatmap(corr_matrix, annot = True)\n",
    "plt.show()"
   ]
  },
  {
   "cell_type": "markdown",
   "id": "df944cc8",
   "metadata": {},
   "source": [
    "#### This shows a positive correlation between salary and years of experience (98%)"
   ]
  },
  {
   "cell_type": "code",
   "execution_count": 19,
   "id": "7413744b",
   "metadata": {},
   "outputs": [
    {
     "data": {
      "text/plain": [
       "<Axes: xlabel='YearsExperience', ylabel='Salary'>"
      ]
     },
     "execution_count": 19,
     "metadata": {},
     "output_type": "execute_result"
    },
    {
     "data": {
      "image/png": "[encoded data removed]",
      "text/plain": [
       "<Figure size 640x480 with 1 Axes>"
      ]
     },
     "metadata": {},
     "output_type": "display_data"
    }
   ],
   "source": [
    "sns.regplot(x = 'YearsExperience', y = 'Salary', data = salary_df)"
   ]
  },
  {
   "cell_type": "markdown",
   "id": "0dc413b2",
   "metadata": {},
   "source": [
    "1. sns.regplot is a function from the seaborn library that creates a scatter plot with a linear regression line fitted to the data. \n",
    "2. It is useful for visualizing the relationship between two variables and for checking the fit of a linear regression model."
   ]
  },
  {
   "cell_type": "markdown",
   "id": "f7a691e3",
   "metadata": {},
   "source": [
    "# Create Training and Testing Dataset"
   ]
  },
  {
   "cell_type": "code",
   "execution_count": 40,
   "id": "254148cd",
   "metadata": {},
   "outputs": [],
   "source": [
    "X = salary_df[['YearsExperience']]\n",
    "Y = salary_df[['Salary']]\n",
    "\n",
    "X.shape\n",
    "Y.shape\n",
    "\n",
    "# perform data conversion which will be lated needed for linear learner algorithm\n",
    "X = np.array(X).astype('float32') \n",
    "Y = np.array(Y).astype('float32')"
   ]
  },
  {
   "cell_type": "code",
   "execution_count": 41,
   "id": "b4fcfe3c",
   "metadata": {},
   "outputs": [],
   "source": [
    "# Split data into test and train sets\n",
    "\n",
    "from sklearn.model_selection import train_test_split\n",
    "\n",
    "X_train, X_test, Y_train, Y_test = train_test_split(X, Y, test_size = 0.2) # splits and shuffles the data"
   ]
  },
  {
   "cell_type": "markdown",
   "id": "78856224",
   "metadata": {},
   "source": [
    "# Train Linear Regression Model in SciKit-Learn library"
   ]
  },
  {
   "cell_type": "code",
   "execution_count": 49,
   "id": "44bb3951",
   "metadata": {},
   "outputs": [
    {
     "data": {
      "text/html": [
       "<style>#sk-container-id-3 {\n",
       "  /* Definition of color scheme common for light and dark mode */\n",
       "  --sklearn-color-text: black;\n",
       "  --sklearn-color-line: gray;\n",
       "  /* Definition of color scheme for unfitted estimators */\n",
       "  --sklearn-color-unfitted-level-0: #fff5e6;\n",
       "  --sklearn-color-unfitted-level-1: #f6e4d2;\n",
       "  --sklearn-color-unfitted-level-2: #ffe0b3;\n",
       "  --sklearn-color-unfitted-level-3: chocolate;\n",
       "  /* Definition of color scheme for fitted estimators */\n",
       "  --sklearn-color-fitted-level-0: #f0f8ff;\n",
       "  --sklearn-color-fitted-level-1: #d4ebff;\n",
       "  --sklearn-color-fitted-level-2: #b3dbfd;\n",
       "  --sklearn-color-fitted-level-3: cornflowerblue;\n",
       "\n",
       "  /* Specific color for light theme */\n",
       "  --sklearn-color-text-on-default-background: var(--sg-text-color, var(--theme-code-foreground, var(--jp-content-font-color1, black)));\n",
       "  --sklearn-color-background: var(--sg-background-color, var(--theme-background, var(--jp-layout-color0, white)));\n",
       "  --sklearn-color-border-box: var(--sg-text-color, var(--theme-code-foreground, var(--jp-content-font-color1, black)));\n",
       "  --sklearn-color-icon: #696969;\n",
       "\n",
       "  @media (prefers-color-scheme: dark) {\n",
       "    /* Redefinition of color scheme for dark theme */\n",
       "    --sklearn-color-text-on-default-background: var(--sg-text-color, var(--theme-code-foreground, var(--jp-content-font-color1, white)));\n",
       "    --sklearn-color-background: var(--sg-background-color, var(--theme-background, var(--jp-layout-color0, #111)));\n",
       "    --sklearn-color-border-box: var(--sg-text-color, var(--theme-code-foreground, var(--jp-content-font-color1, white)));\n",
       "    --sklearn-color-icon: #878787;\n",
       "  }\n",
       "}\n",
       "\n",
       "#sk-container-id-3 {\n",
       "  color: var(--sklearn-color-text);\n",
       "}\n",
       "\n",
       "#sk-container-id-3 pre {\n",
       "  padding: 0;\n",
       "}\n",
       "\n",
       "#sk-container-id-3 input.sk-hidden--visually {\n",
       "  border: 0;\n",
       "  clip: rect(1px 1px 1px 1px);\n",
       "  clip: rect(1px, 1px, 1px, 1px);\n",
       "  height: 1px;\n",
       "  margin: -1px;\n",
       "  overflow: hidden;\n",
       "  padding: 0;\n",
       "  position: absolute;\n",
       "  width: 1px;\n",
       "}\n",
       "\n",
       "#sk-container-id-3 div.sk-dashed-wrapped {\n",
       "  border: 1px dashed var(--sklearn-color-line);\n",
       "  margin: 0 0.4em 0.5em 0.4em;\n",
       "  box-sizing: border-box;\n",
       "  padding-bottom: 0.4em;\n",
       "  background-color: var(--sklearn-color-background);\n",
       "}\n",
       "\n",
       "#sk-container-id-3 div.sk-container {\n",
       "  /* jupyter's `normalize.less` sets `[hidden] { display: none; }`\n",
       "     but bootstrap.min.css set `[hidden] { display: none !important; }`\n",
       "     so we also need the `!important` here to be able to override the\n",
       "     default hidden behavior on the sphinx rendered scikit-learn.org.\n",
       "     See: https://github.com/scikit-learn/scikit-learn/issues/21755 */\n",
       "  display: inline-block !important;\n",
       "  position: relative;\n",
       "}\n",
       "\n",
       "#sk-container-id-3 div.sk-text-repr-fallback {\n",
       "  display: none;\n",
       "}\n",
       "\n",
       "div.sk-parallel-item,\n",
       "div.sk-serial,\n",
       "div.sk-item {\n",
       "  /* draw centered vertical line to link estimators */\n",
       "  background-image: linear-gradient(var(--sklearn-color-text-on-default-background), var(--sklearn-color-text-on-default-background));\n",
       "  background-size: 2px 100%;\n",
       "  background-repeat: no-repeat;\n",
       "  background-position: center center;\n",
       "}\n",
       "\n",
       "/* Parallel-specific style estimator block */\n",
       "\n",
       "#sk-container-id-3 div.sk-parallel-item::after {\n",
       "  content: \"\";\n",
       "  width: 100%;\n",
       "  border-bottom: 2px solid var(--sklearn-color-text-on-default-background);\n",
       "  flex-grow: 1;\n",
       "}\n",
       "\n",
       "#sk-container-id-3 div.sk-parallel {\n",
       "  display: flex;\n",
       "  align-items: stretch;\n",
       "  justify-content: center;\n",
       "  background-color: var(--sklearn-color-background);\n",
       "  position: relative;\n",
       "}\n",
       "\n",
       "#sk-container-id-3 div.sk-parallel-item {\n",
       "  display: flex;\n",
       "  flex-direction: column;\n",
       "}\n",
       "\n",
       "#sk-container-id-3 div.sk-parallel-item:first-child::after {\n",
       "  align-self: flex-end;\n",
       "  width: 50%;\n",
       "}\n",
       "\n",
       "#sk-container-id-3 div.sk-parallel-item:last-child::after {\n",
       "  align-self: flex-start;\n",
       "  width: 50%;\n",
       "}\n",
       "\n",
       "#sk-container-id-3 div.sk-parallel-item:only-child::after {\n",
       "  width: 0;\n",
       "}\n",
       "\n",
       "/* Serial-specific style estimator block */\n",
       "\n",
       "#sk-container-id-3 div.sk-serial {\n",
       "  display: flex;\n",
       "  flex-direction: column;\n",
       "  align-items: center;\n",
       "  background-color: var(--sklearn-color-background);\n",
       "  padding-right: 1em;\n",
       "  padding-left: 1em;\n",
       "}\n",
       "\n",
       "\n",
       "/* Toggleable style: style used for estimator/Pipeline/ColumnTransformer box that is\n",
       "clickable and can be expanded/collapsed.\n",
       "- Pipeline and ColumnTransformer use this feature and define the default style\n",
       "- Estimators will overwrite some part of the style using the `sk-estimator` class\n",
       "*/\n",
       "\n",
       "/* Pipeline and ColumnTransformer style (default) */\n",
       "\n",
       "#sk-container-id-3 div.sk-toggleable {\n",
       "  /* Default theme specific background. It is overwritten whether we have a\n",
       "  specific estimator or a Pipeline/ColumnTransformer */\n",
       "  background-color: var(--sklearn-color-background);\n",
       "}\n",
       "\n",
       "/* Toggleable label */\n",
       "#sk-container-id-3 label.sk-toggleable__label {\n",
       "  cursor: pointer;\n",
       "  display: block;\n",
       "  width: 100%;\n",
       "  margin-bottom: 0;\n",
       "  padding: 0.5em;\n",
       "  box-sizing: border-box;\n",
       "  text-align: center;\n",
       "}\n",
       "\n",
       "#sk-container-id-3 label.sk-toggleable__label-arrow:before {\n",
       "  /* Arrow on the left of the label */\n",
       "  content: \"▸\";\n",
       "  float: left;\n",
       "  margin-right: 0.25em;\n",
       "  color: var(--sklearn-color-icon);\n",
       "}\n",
       "\n",
       "#sk-container-id-3 label.sk-toggleable__label-arrow:hover:before {\n",
       "  color: var(--sklearn-color-text);\n",
       "}\n",
       "\n",
       "/* Toggleable content - dropdown */\n",
       "\n",
       "#sk-container-id-3 div.sk-toggleable__content {\n",
       "  max-height: 0;\n",
       "  max-width: 0;\n",
       "  overflow: hidden;\n",
       "  text-align: left;\n",
       "  /* unfitted */\n",
       "  background-color: var(--sklearn-color-unfitted-level-0);\n",
       "}\n",
       "\n",
       "#sk-container-id-3 div.sk-toggleable__content.fitted {\n",
       "  /* fitted */\n",
       "  background-color: var(--sklearn-color-fitted-level-0);\n",
       "}\n",
       "\n",
       "#sk-container-id-3 div.sk-toggleable__content pre {\n",
       "  margin: 0.2em;\n",
       "  border-radius: 0.25em;\n",
       "  color: var(--sklearn-color-text);\n",
       "  /* unfitted */\n",
       "  background-color: var(--sklearn-color-unfitted-level-0);\n",
       "}\n",
       "\n",
       "#sk-container-id-3 div.sk-toggleable__content.fitted pre {\n",
       "  /* unfitted */\n",
       "  background-color: var(--sklearn-color-fitted-level-0);\n",
       "}\n",
       "\n",
       "#sk-container-id-3 input.sk-toggleable__control:checked~div.sk-toggleable__content {\n",
       "  /* Expand drop-down */\n",
       "  max-height: 200px;\n",
       "  max-width: 100%;\n",
       "  overflow: auto;\n",
       "}\n",
       "\n",
       "#sk-container-id-3 input.sk-toggleable__control:checked~label.sk-toggleable__label-arrow:before {\n",
       "  content: \"▾\";\n",
       "}\n",
       "\n",
       "/* Pipeline/ColumnTransformer-specific style */\n",
       "\n",
       "#sk-container-id-3 div.sk-label input.sk-toggleable__control:checked~label.sk-toggleable__label {\n",
       "  color: var(--sklearn-color-text);\n",
       "  background-color: var(--sklearn-color-unfitted-level-2);\n",
       "}\n",
       "\n",
       "#sk-container-id-3 div.sk-label.fitted input.sk-toggleable__control:checked~label.sk-toggleable__label {\n",
       "  background-color: var(--sklearn-color-fitted-level-2);\n",
       "}\n",
       "\n",
       "/* Estimator-specific style */\n",
       "\n",
       "/* Colorize estimator box */\n",
       "#sk-container-id-3 div.sk-estimator input.sk-toggleable__control:checked~label.sk-toggleable__label {\n",
       "  /* unfitted */\n",
       "  background-color: var(--sklearn-color-unfitted-level-2);\n",
       "}\n",
       "\n",
       "#sk-container-id-3 div.sk-estimator.fitted input.sk-toggleable__control:checked~label.sk-toggleable__label {\n",
       "  /* fitted */\n",
       "  background-color: var(--sklearn-color-fitted-level-2);\n",
       "}\n",
       "\n",
       "#sk-container-id-3 div.sk-label label.sk-toggleable__label,\n",
       "#sk-container-id-3 div.sk-label label {\n",
       "  /* The background is the default theme color */\n",
       "  color: var(--sklearn-color-text-on-default-background);\n",
       "}\n",
       "\n",
       "/* On hover, darken the color of the background */\n",
       "#sk-container-id-3 div.sk-label:hover label.sk-toggleable__label {\n",
       "  color: var(--sklearn-color-text);\n",
       "  background-color: var(--sklearn-color-unfitted-level-2);\n",
       "}\n",
       "\n",
       "/* Label box, darken color on hover, fitted */\n",
       "#sk-container-id-3 div.sk-label.fitted:hover label.sk-toggleable__label.fitted {\n",
       "  color: var(--sklearn-color-text);\n",
       "  background-color: var(--sklearn-color-fitted-level-2);\n",
       "}\n",
       "\n",
       "/* Estimator label */\n",
       "\n",
       "#sk-container-id-3 div.sk-label label {\n",
       "  font-family: monospace;\n",
       "  font-weight: bold;\n",
       "  display: inline-block;\n",
       "  line-height: 1.2em;\n",
       "}\n",
       "\n",
       "#sk-container-id-3 div.sk-label-container {\n",
       "  text-align: center;\n",
       "}\n",
       "\n",
       "/* Estimator-specific */\n",
       "#sk-container-id-3 div.sk-estimator {\n",
       "  font-family: monospace;\n",
       "  border: 1px dotted var(--sklearn-color-border-box);\n",
       "  border-radius: 0.25em;\n",
       "  box-sizing: border-box;\n",
       "  margin-bottom: 0.5em;\n",
       "  /* unfitted */\n",
       "  background-color: var(--sklearn-color-unfitted-level-0);\n",
       "}\n",
       "\n",
       "#sk-container-id-3 div.sk-estimator.fitted {\n",
       "  /* fitted */\n",
       "  background-color: var(--sklearn-color-fitted-level-0);\n",
       "}\n",
       "\n",
       "/* on hover */\n",
       "#sk-container-id-3 div.sk-estimator:hover {\n",
       "  /* unfitted */\n",
       "  background-color: var(--sklearn-color-unfitted-level-2);\n",
       "}\n",
       "\n",
       "#sk-container-id-3 div.sk-estimator.fitted:hover {\n",
       "  /* fitted */\n",
       "  background-color: var(--sklearn-color-fitted-level-2);\n",
       "}\n",
       "\n",
       "/* Specification for estimator info (e.g. \"i\" and \"?\") */\n",
       "\n",
       "/* Common style for \"i\" and \"?\" */\n",
       "\n",
       ".sk-estimator-doc-link,\n",
       "a:link.sk-estimator-doc-link,\n",
       "a:visited.sk-estimator-doc-link {\n",
       "  float: right;\n",
       "  font-size: smaller;\n",
       "  line-height: 1em;\n",
       "  font-family: monospace;\n",
       "  background-color: var(--sklearn-color-background);\n",
       "  border-radius: 1em;\n",
       "  height: 1em;\n",
       "  width: 1em;\n",
       "  text-decoration: none !important;\n",
       "  margin-left: 1ex;\n",
       "  /* unfitted */\n",
       "  border: var(--sklearn-color-unfitted-level-1) 1pt solid;\n",
       "  color: var(--sklearn-color-unfitted-level-1);\n",
       "}\n",
       "\n",
       ".sk-estimator-doc-link.fitted,\n",
       "a:link.sk-estimator-doc-link.fitted,\n",
       "a:visited.sk-estimator-doc-link.fitted {\n",
       "  /* fitted */\n",
       "  border: var(--sklearn-color-fitted-level-1) 1pt solid;\n",
       "  color: var(--sklearn-color-fitted-level-1);\n",
       "}\n",
       "\n",
       "/* On hover */\n",
       "div.sk-estimator:hover .sk-estimator-doc-link:hover,\n",
       ".sk-estimator-doc-link:hover,\n",
       "div.sk-label-container:hover .sk-estimator-doc-link:hover,\n",
       ".sk-estimator-doc-link:hover {\n",
       "  /* unfitted */\n",
       "  background-color: var(--sklearn-color-unfitted-level-3);\n",
       "  color: var(--sklearn-color-background);\n",
       "  text-decoration: none;\n",
       "}\n",
       "\n",
       "div.sk-estimator.fitted:hover .sk-estimator-doc-link.fitted:hover,\n",
       ".sk-estimator-doc-link.fitted:hover,\n",
       "div.sk-label-container:hover .sk-estimator-doc-link.fitted:hover,\n",
       ".sk-estimator-doc-link.fitted:hover {\n",
       "  /* fitted */\n",
       "  background-color: var(--sklearn-color-fitted-level-3);\n",
       "  color: var(--sklearn-color-background);\n",
       "  text-decoration: none;\n",
       "}\n",
       "\n",
       "/* Span, style for the box shown on hovering the info icon */\n",
       ".sk-estimator-doc-link span {\n",
       "  display: none;\n",
       "  z-index: 9999;\n",
       "  position: relative;\n",
       "  font-weight: normal;\n",
       "  right: .2ex;\n",
       "  padding: .5ex;\n",
       "  margin: .5ex;\n",
       "  width: min-content;\n",
       "  min-width: 20ex;\n",
       "  max-width: 50ex;\n",
       "  color: var(--sklearn-color-text);\n",
       "  box-shadow: 2pt 2pt 4pt #999;\n",
       "  /* unfitted */\n",
       "  background: var(--sklearn-color-unfitted-level-0);\n",
       "  border: .5pt solid var(--sklearn-color-unfitted-level-3);\n",
       "}\n",
       "\n",
       ".sk-estimator-doc-link.fitted span {\n",
       "  /* fitted */\n",
       "  background: var(--sklearn-color-fitted-level-0);\n",
       "  border: var(--sklearn-color-fitted-level-3);\n",
       "}\n",
       "\n",
       ".sk-estimator-doc-link:hover span {\n",
       "  display: block;\n",
       "}\n",
       "\n",
       "/* \"?\"-specific style due to the `<a>` HTML tag */\n",
       "\n",
       "#sk-container-id-3 a.estimator_doc_link {\n",
       "  float: right;\n",
       "  font-size: 1rem;\n",
       "  line-height: 1em;\n",
       "  font-family: monospace;\n",
       "  background-color: var(--sklearn-color-background);\n",
       "  border-radius: 1rem;\n",
       "  height: 1rem;\n",
       "  width: 1rem;\n",
       "  text-decoration: none;\n",
       "  /* unfitted */\n",
       "  color: var(--sklearn-color-unfitted-level-1);\n",
       "  border: var(--sklearn-color-unfitted-level-1) 1pt solid;\n",
       "}\n",
       "\n",
       "#sk-container-id-3 a.estimator_doc_link.fitted {\n",
       "  /* fitted */\n",
       "  border: var(--sklearn-color-fitted-level-1) 1pt solid;\n",
       "  color: var(--sklearn-color-fitted-level-1);\n",
       "}\n",
       "\n",
       "/* On hover */\n",
       "#sk-container-id-3 a.estimator_doc_link:hover {\n",
       "  /* unfitted */\n",
       "  background-color: var(--sklearn-color-unfitted-level-3);\n",
       "  color: var(--sklearn-color-background);\n",
       "  text-decoration: none;\n",
       "}\n",
       "\n",
       "#sk-container-id-3 a.estimator_doc_link.fitted:hover {\n",
       "  /* fitted */\n",
       "  background-color: var(--sklearn-color-fitted-level-3);\n",
       "}\n",
       "</style><div id=\"sk-container-id-3\" class=\"sk-top-container\"><div class=\"sk-text-repr-fallback\"><pre>LinearRegression()</pre><b>In a Jupyter environment, please rerun this cell to show the HTML representation or trust the notebook. <br />On GitHub, the HTML representation is unable to render, please try loading this page with nbviewer.org.</b></div><div class=\"sk-container\" hidden><div class=\"sk-item\"><div class=\"sk-estimator fitted sk-toggleable\"><input class=\"sk-toggleable__control sk-hidden--visually\" id=\"sk-estimator-id-3\" type=\"checkbox\" checked><label for=\"sk-estimator-id-3\" class=\"sk-toggleable__label fitted sk-toggleable__label-arrow fitted\">&nbsp;&nbsp;LinearRegression<a class=\"sk-estimator-doc-link fitted\" rel=\"noreferrer\" target=\"_blank\" href=\"https://scikit-learn.org/1.5/modules/generated/sklearn.linear_model.LinearRegression.html\">?<span>Documentation for LinearRegression</span></a><span class=\"sk-estimator-doc-link fitted\">i<span>Fitted</span></span></label><div class=\"sk-toggleable__content fitted\"><pre>LinearRegression()</pre></div> </div></div></div></div>"
      ],
      "text/plain": [
       "LinearRegression()"
      ]
     },
     "execution_count": 49,
     "metadata": {},
     "output_type": "execute_result"
    }
   ],
   "source": [
    "# using linear regression model\n",
    "\n",
    "from sklearn.linear_model import LinearRegression\n",
    "from sklearn.metrics import mean_squared_error, accuracy_score\n",
    "\n",
    "regression_model_sklearn = LinearRegression(fit_intercept = True) # fit_intercept forces the line to go through origin\n",
    "regression_model_sklearn.fit(X_train, Y_train)"
   ]
  },
  {
   "cell_type": "code",
   "execution_count": 50,
   "id": "27c97101",
   "metadata": {},
   "outputs": [
    {
     "data": {
      "text/plain": [
       "0.9790006279945374"
      ]
     },
     "execution_count": 50,
     "metadata": {},
     "output_type": "execute_result"
    }
   ],
   "source": [
    "regression_model_sklearn_accuracy = regression_model_sklearn.score(X_test, Y_test)\n",
    "regression_model_sklearn_accuracy"
   ]
  },
  {
   "cell_type": "markdown",
   "id": "abbc60e5",
   "metadata": {},
   "source": [
    "##### 97.9% accuracy"
   ]
  },
  {
   "cell_type": "code",
   "execution_count": 51,
   "id": "26a0f336",
   "metadata": {},
   "outputs": [
    {
     "name": "stdout",
     "output_type": "stream",
     "text": [
      "Linear model coefficient - (m) [[8910.697]]\n",
      "Linear model coefficient - (b) [28402.969]\n"
     ]
    }
   ],
   "source": [
    "print('Linear model coefficient - (m)', regression_model_sklearn.coef_)\n",
    "print('Linear model coefficient - (b)', regression_model_sklearn.intercept_)"
   ]
  },
  {
   "cell_type": "markdown",
   "id": "a795bad6",
   "metadata": {},
   "source": [
    "1. Above values of m and b can be added to linear equation y = xm + b.\n",
    "2. This value can be given to HR of a company and she can evaluate the salary based on experience."
   ]
  },
  {
   "cell_type": "markdown",
   "id": "67d0e6aa",
   "metadata": {},
   "source": [
    "# Evaluate Trained model performance"
   ]
  },
  {
   "cell_type": "code",
   "execution_count": 52,
   "id": "4bd45841",
   "metadata": {},
   "outputs": [],
   "source": [
    "Y_predict = regression_model_sklearn.predict(X_test)"
   ]
  },
  {
   "cell_type": "code",
   "execution_count": 53,
   "id": "08b408ec",
   "metadata": {},
   "outputs": [
    {
     "data": {
      "text/plain": [
       "array([[ 41769.016],\n",
       "       [148697.38 ],\n",
       "       [ 54243.992],\n",
       "       [105926.03 ],\n",
       "       [ 61372.55 ],\n",
       "       [ 46224.363],\n",
       "       [138004.55 ]], dtype=float32)"
      ]
     },
     "execution_count": 53,
     "metadata": {},
     "output_type": "execute_result"
    }
   ],
   "source": [
    "Y_predict"
   ]
  },
  {
   "cell_type": "code",
   "execution_count": 54,
   "id": "99235beb",
   "metadata": {},
   "outputs": [
    {
     "data": {
      "text/plain": [
       "Text(0.5, 1.0, 'Salary vs Years of experience')"
      ]
     },
     "execution_count": 54,
     "metadata": {},
     "output_type": "execute_result"
    },
    {
     "data": {
      "image/png": "[encoded data removed]",
      "text/plain": [
       "<Figure size 640x480 with 1 Axes>"
      ]
     },
     "metadata": {},
     "output_type": "display_data"
    }
   ],
   "source": [
    "plt.scatter(X_train, Y_train, color='gray')\n",
    "plt.plot(X_train, regression_model_sklearn.predict(X_train), color='red')\n",
    "plt.ylabel('Salary')\n",
    "plt.xlabel('Years of experience')\n",
    "plt.title('Salary vs Years of experience')"
   ]
  },
  {
   "cell_type": "code",
   "execution_count": 58,
   "id": "6a9a0a73",
   "metadata": {},
   "outputs": [
    {
     "data": {
      "text/plain": [
       "array([[72956.45507812]])"
      ]
     },
     "execution_count": 58,
     "metadata": {},
     "output_type": "execute_result"
    }
   ],
   "source": [
    "yoe = [[5]] # if years of experience is 5\n",
    "salary = regression_model_sklearn.predict(yoe)\n",
    "salary"
   ]
  },
  {
   "cell_type": "markdown",
   "id": "6b61b1f0",
   "metadata": {},
   "source": [
    "# Train Linear Learner Model using AWS SageMaker"
   ]
  },
  {
   "cell_type": "code",
   "execution_count": 70,
   "id": "1bb8b7a2",
   "metadata": {},
   "outputs": [
    {
     "data": {
      "text/plain": [
       "(28,)"
      ]
     },
     "execution_count": 70,
     "metadata": {},
     "output_type": "execute_result"
    }
   ],
   "source": [
    "import sagemaker\n",
    "import boto3 # allows python to write software code which makes use of AWS services like S3, EC2 etc\n",
    "\n",
    "# create sagemaker session\n",
    "sagemaker_session = sagemaker.Session()\n",
    "\n",
    "bucket = 'sagemaker-implementation' # bucket was created beforehand\n",
    "prefix = 'linear_learner' # subfolder within the bucket\n",
    "\n",
    "role = sagemaker.get_execution_role() # this is important to know if we have required permission to access AWS services\n",
    "\n",
    "Y_train.shape\n",
    "\n"
   ]
  },
  {
   "cell_type": "code",
   "execution_count": 71,
   "id": "1abbe0ae",
   "metadata": {},
   "outputs": [
    {
     "data": {
      "text/plain": [
       "0"
      ]
     },
     "execution_count": 71,
     "metadata": {},
     "output_type": "execute_result"
    }
   ],
   "source": [
    "import io # deals with different types of i/o\n",
    "import sagemaker.amazon.common as smac # sagemake common library\n",
    "\n",
    "buf = io.BytesIO() # creates in memory byte array and buf is the buffer to write to\n",
    "smac.write_numpy_to_dense_tensor(buf, X_train, Y_train) # converting data to format understood by sagemaker\n",
    "buf.seek(0) # in memory byte array is incremented by 1 everytime you write to it. This line will reset it\n"
   ]
  },
  {
   "cell_type": "code",
   "execution_count": 89,
   "id": "749d3005",
   "metadata": {},
   "outputs": [
    {
     "ename": "ValueError",
     "evalue": "I/O operation on closed file.",
     "output_type": "error",
     "traceback": [
      "\u001b[0;31m---------------------------------------------------------------------------\u001b[0m",
      "\u001b[0;31mValueError\u001b[0m                                Traceback (most recent call last)",
      "Cell \u001b[0;32mIn[89], line 5\u001b[0m\n\u001b[1;32m      1\u001b[0m \u001b[38;5;28;01mimport\u001b[39;00m \u001b[38;5;21;01mos\u001b[39;00m\n\u001b[1;32m      3\u001b[0m key \u001b[38;5;241m=\u001b[39m \u001b[38;5;124m'\u001b[39m\u001b[38;5;124mlinear-train-data\u001b[39m\u001b[38;5;124m'\u001b[39m \u001b[38;5;66;03m# refers to name of file in S3\u001b[39;00m\n\u001b[0;32m----> 5\u001b[0m \u001b[43mboto3\u001b[49m\u001b[38;5;241;43m.\u001b[39;49m\u001b[43mresource\u001b[49m\u001b[43m(\u001b[49m\u001b[38;5;124;43m'\u001b[39;49m\u001b[38;5;124;43ms3\u001b[39;49m\u001b[38;5;124;43m'\u001b[39;49m\u001b[43m)\u001b[49m\u001b[38;5;241;43m.\u001b[39;49m\u001b[43mBucket\u001b[49m\u001b[43m(\u001b[49m\u001b[43mbucket\u001b[49m\u001b[43m)\u001b[49m\u001b[38;5;241;43m.\u001b[39;49m\u001b[43mObject\u001b[49m\u001b[43m(\u001b[49m\u001b[43mos\u001b[49m\u001b[38;5;241;43m.\u001b[39;49m\u001b[43mpath\u001b[49m\u001b[38;5;241;43m.\u001b[39;49m\u001b[43mjoin\u001b[49m\u001b[43m(\u001b[49m\u001b[43mprefix\u001b[49m\u001b[43m,\u001b[49m\u001b[43m \u001b[49m\u001b[38;5;124;43m'\u001b[39;49m\u001b[38;5;124;43mtrain\u001b[39;49m\u001b[38;5;124;43m'\u001b[39;49m\u001b[43m,\u001b[49m\u001b[43m \u001b[49m\u001b[43mkey\u001b[49m\u001b[43m)\u001b[49m\u001b[43m)\u001b[49m\u001b[38;5;241;43m.\u001b[39;49m\u001b[43mupload_fileobj\u001b[49m\u001b[43m(\u001b[49m\u001b[43mbuf\u001b[49m\u001b[43m)\u001b[49m \u001b[38;5;66;03m# uploads data to S3\u001b[39;00m\n",
      "File \u001b[0;32m~/anaconda3/envs/python3/lib/python3.10/site-packages/boto3/s3/inject.py:731\u001b[0m, in \u001b[0;36mobject_upload_fileobj\u001b[0;34m(self, Fileobj, ExtraArgs, Callback, Config)\u001b[0m\n\u001b[1;32m    694\u001b[0m \u001b[38;5;28;01mdef\u001b[39;00m \u001b[38;5;21mobject_upload_fileobj\u001b[39m(\n\u001b[1;32m    695\u001b[0m     \u001b[38;5;28mself\u001b[39m, Fileobj, ExtraArgs\u001b[38;5;241m=\u001b[39m\u001b[38;5;28;01mNone\u001b[39;00m, Callback\u001b[38;5;241m=\u001b[39m\u001b[38;5;28;01mNone\u001b[39;00m, Config\u001b[38;5;241m=\u001b[39m\u001b[38;5;28;01mNone\u001b[39;00m\n\u001b[1;32m    696\u001b[0m ):\n\u001b[1;32m    697\u001b[0m \u001b[38;5;250m    \u001b[39m\u001b[38;5;124;03m\"\"\"Upload a file-like object to this object.\u001b[39;00m\n\u001b[1;32m    698\u001b[0m \n\u001b[1;32m    699\u001b[0m \u001b[38;5;124;03m    The file-like object must be in binary mode.\u001b[39;00m\n\u001b[0;32m   (...)\u001b[0m\n\u001b[1;32m    729\u001b[0m \u001b[38;5;124;03m        upload.\u001b[39;00m\n\u001b[1;32m    730\u001b[0m \u001b[38;5;124;03m    \"\"\"\u001b[39;00m\n\u001b[0;32m--> 731\u001b[0m     \u001b[38;5;28;01mreturn\u001b[39;00m \u001b[38;5;28;43mself\u001b[39;49m\u001b[38;5;241;43m.\u001b[39;49m\u001b[43mmeta\u001b[49m\u001b[38;5;241;43m.\u001b[39;49m\u001b[43mclient\u001b[49m\u001b[38;5;241;43m.\u001b[39;49m\u001b[43mupload_fileobj\u001b[49m\u001b[43m(\u001b[49m\n\u001b[1;32m    732\u001b[0m \u001b[43m        \u001b[49m\u001b[43mFileobj\u001b[49m\u001b[38;5;241;43m=\u001b[39;49m\u001b[43mFileobj\u001b[49m\u001b[43m,\u001b[49m\n\u001b[1;32m    733\u001b[0m \u001b[43m        \u001b[49m\u001b[43mBucket\u001b[49m\u001b[38;5;241;43m=\u001b[39;49m\u001b[38;5;28;43mself\u001b[39;49m\u001b[38;5;241;43m.\u001b[39;49m\u001b[43mbucket_name\u001b[49m\u001b[43m,\u001b[49m\n\u001b[1;32m    734\u001b[0m \u001b[43m        \u001b[49m\u001b[43mKey\u001b[49m\u001b[38;5;241;43m=\u001b[39;49m\u001b[38;5;28;43mself\u001b[39;49m\u001b[38;5;241;43m.\u001b[39;49m\u001b[43mkey\u001b[49m\u001b[43m,\u001b[49m\n\u001b[1;32m    735\u001b[0m \u001b[43m        \u001b[49m\u001b[43mExtraArgs\u001b[49m\u001b[38;5;241;43m=\u001b[39;49m\u001b[43mExtraArgs\u001b[49m\u001b[43m,\u001b[49m\n\u001b[1;32m    736\u001b[0m \u001b[43m        \u001b[49m\u001b[43mCallback\u001b[49m\u001b[38;5;241;43m=\u001b[39;49m\u001b[43mCallback\u001b[49m\u001b[43m,\u001b[49m\n\u001b[1;32m    737\u001b[0m \u001b[43m        \u001b[49m\u001b[43mConfig\u001b[49m\u001b[38;5;241;43m=\u001b[39;49m\u001b[43mConfig\u001b[49m\u001b[43m,\u001b[49m\n\u001b[1;32m    738\u001b[0m \u001b[43m    \u001b[49m\u001b[43m)\u001b[49m\n",
      "File \u001b[0;32m~/anaconda3/envs/python3/lib/python3.10/site-packages/boto3/s3/inject.py:642\u001b[0m, in \u001b[0;36mupload_fileobj\u001b[0;34m(self, Fileobj, Bucket, Key, ExtraArgs, Callback, Config)\u001b[0m\n\u001b[1;32m    634\u001b[0m \u001b[38;5;28;01mwith\u001b[39;00m create_transfer_manager(\u001b[38;5;28mself\u001b[39m, config) \u001b[38;5;28;01mas\u001b[39;00m manager:\n\u001b[1;32m    635\u001b[0m     future \u001b[38;5;241m=\u001b[39m manager\u001b[38;5;241m.\u001b[39mupload(\n\u001b[1;32m    636\u001b[0m         fileobj\u001b[38;5;241m=\u001b[39mFileobj,\n\u001b[1;32m    637\u001b[0m         bucket\u001b[38;5;241m=\u001b[39mBucket,\n\u001b[0;32m   (...)\u001b[0m\n\u001b[1;32m    640\u001b[0m         subscribers\u001b[38;5;241m=\u001b[39msubscribers,\n\u001b[1;32m    641\u001b[0m     )\n\u001b[0;32m--> 642\u001b[0m     \u001b[38;5;28;01mreturn\u001b[39;00m \u001b[43mfuture\u001b[49m\u001b[38;5;241;43m.\u001b[39;49m\u001b[43mresult\u001b[49m\u001b[43m(\u001b[49m\u001b[43m)\u001b[49m\n",
      "File \u001b[0;32m~/anaconda3/envs/python3/lib/python3.10/site-packages/s3transfer/futures.py:103\u001b[0m, in \u001b[0;36mTransferFuture.result\u001b[0;34m(self)\u001b[0m\n\u001b[1;32m     98\u001b[0m \u001b[38;5;28;01mdef\u001b[39;00m \u001b[38;5;21mresult\u001b[39m(\u001b[38;5;28mself\u001b[39m):\n\u001b[1;32m     99\u001b[0m     \u001b[38;5;28;01mtry\u001b[39;00m:\n\u001b[1;32m    100\u001b[0m         \u001b[38;5;66;03m# Usually the result() method blocks until the transfer is done,\u001b[39;00m\n\u001b[1;32m    101\u001b[0m         \u001b[38;5;66;03m# however if a KeyboardInterrupt is raised we want want to exit\u001b[39;00m\n\u001b[1;32m    102\u001b[0m         \u001b[38;5;66;03m# out of this and propagate the exception.\u001b[39;00m\n\u001b[0;32m--> 103\u001b[0m         \u001b[38;5;28;01mreturn\u001b[39;00m \u001b[38;5;28;43mself\u001b[39;49m\u001b[38;5;241;43m.\u001b[39;49m\u001b[43m_coordinator\u001b[49m\u001b[38;5;241;43m.\u001b[39;49m\u001b[43mresult\u001b[49m\u001b[43m(\u001b[49m\u001b[43m)\u001b[49m\n\u001b[1;32m    104\u001b[0m     \u001b[38;5;28;01mexcept\u001b[39;00m \u001b[38;5;167;01mKeyboardInterrupt\u001b[39;00m \u001b[38;5;28;01mas\u001b[39;00m e:\n\u001b[1;32m    105\u001b[0m         \u001b[38;5;28mself\u001b[39m\u001b[38;5;241m.\u001b[39mcancel()\n",
      "File \u001b[0;32m~/anaconda3/envs/python3/lib/python3.10/site-packages/s3transfer/futures.py:266\u001b[0m, in \u001b[0;36mTransferCoordinator.result\u001b[0;34m(self)\u001b[0m\n\u001b[1;32m    263\u001b[0m \u001b[38;5;66;03m# Once done waiting, raise an exception if present or return the\u001b[39;00m\n\u001b[1;32m    264\u001b[0m \u001b[38;5;66;03m# final result.\u001b[39;00m\n\u001b[1;32m    265\u001b[0m \u001b[38;5;28;01mif\u001b[39;00m \u001b[38;5;28mself\u001b[39m\u001b[38;5;241m.\u001b[39m_exception:\n\u001b[0;32m--> 266\u001b[0m     \u001b[38;5;28;01mraise\u001b[39;00m \u001b[38;5;28mself\u001b[39m\u001b[38;5;241m.\u001b[39m_exception\n\u001b[1;32m    267\u001b[0m \u001b[38;5;28;01mreturn\u001b[39;00m \u001b[38;5;28mself\u001b[39m\u001b[38;5;241m.\u001b[39m_result\n",
      "File \u001b[0;32m~/anaconda3/envs/python3/lib/python3.10/site-packages/s3transfer/tasks.py:269\u001b[0m, in \u001b[0;36mSubmissionTask._main\u001b[0;34m(self, transfer_future, **kwargs)\u001b[0m\n\u001b[1;32m    265\u001b[0m     \u001b[38;5;28mself\u001b[39m\u001b[38;5;241m.\u001b[39m_transfer_coordinator\u001b[38;5;241m.\u001b[39mset_status_to_running()\n\u001b[1;32m    267\u001b[0m     \u001b[38;5;66;03m# Call the submit method to start submitting tasks to execute the\u001b[39;00m\n\u001b[1;32m    268\u001b[0m     \u001b[38;5;66;03m# transfer.\u001b[39;00m\n\u001b[0;32m--> 269\u001b[0m     \u001b[38;5;28;43mself\u001b[39;49m\u001b[38;5;241;43m.\u001b[39;49m\u001b[43m_submit\u001b[49m\u001b[43m(\u001b[49m\u001b[43mtransfer_future\u001b[49m\u001b[38;5;241;43m=\u001b[39;49m\u001b[43mtransfer_future\u001b[49m\u001b[43m,\u001b[49m\u001b[43m \u001b[49m\u001b[38;5;241;43m*\u001b[39;49m\u001b[38;5;241;43m*\u001b[39;49m\u001b[43mkwargs\u001b[49m\u001b[43m)\u001b[49m\n\u001b[1;32m    270\u001b[0m \u001b[38;5;28;01mexcept\u001b[39;00m \u001b[38;5;167;01mBaseException\u001b[39;00m \u001b[38;5;28;01mas\u001b[39;00m e:\n\u001b[1;32m    271\u001b[0m     \u001b[38;5;66;03m# If there was an exception raised during the submission of task\u001b[39;00m\n\u001b[1;32m    272\u001b[0m     \u001b[38;5;66;03m# there is a chance that the final task that signals if a transfer\u001b[39;00m\n\u001b[0;32m   (...)\u001b[0m\n\u001b[1;32m    281\u001b[0m \n\u001b[1;32m    282\u001b[0m     \u001b[38;5;66;03m# Set the exception, that caused the process to fail.\u001b[39;00m\n\u001b[1;32m    283\u001b[0m     \u001b[38;5;28mself\u001b[39m\u001b[38;5;241m.\u001b[39m_log_and_set_exception(e)\n",
      "File \u001b[0;32m~/anaconda3/envs/python3/lib/python3.10/site-packages/s3transfer/upload.py:585\u001b[0m, in \u001b[0;36mUploadSubmissionTask._submit\u001b[0;34m(self, client, config, osutil, request_executor, transfer_future, bandwidth_limiter)\u001b[0m\n\u001b[1;32m    558\u001b[0m \u001b[38;5;28;01mdef\u001b[39;00m \u001b[38;5;21m_submit\u001b[39m(\n\u001b[1;32m    559\u001b[0m     \u001b[38;5;28mself\u001b[39m,\n\u001b[1;32m    560\u001b[0m     client,\n\u001b[0;32m   (...)\u001b[0m\n\u001b[1;32m    565\u001b[0m     bandwidth_limiter\u001b[38;5;241m=\u001b[39m\u001b[38;5;28;01mNone\u001b[39;00m,\n\u001b[1;32m    566\u001b[0m ):\n\u001b[1;32m    567\u001b[0m \u001b[38;5;250m    \u001b[39m\u001b[38;5;124;03m\"\"\"\u001b[39;00m\n\u001b[1;32m    568\u001b[0m \u001b[38;5;124;03m    :param client: The client associated with the transfer manager\u001b[39;00m\n\u001b[1;32m    569\u001b[0m \n\u001b[0;32m   (...)\u001b[0m\n\u001b[1;32m    583\u001b[0m \u001b[38;5;124;03m        transfer request that tasks are being submitted for\u001b[39;00m\n\u001b[1;32m    584\u001b[0m \u001b[38;5;124;03m    \"\"\"\u001b[39;00m\n\u001b[0;32m--> 585\u001b[0m     upload_input_manager \u001b[38;5;241m=\u001b[39m \u001b[38;5;28;43mself\u001b[39;49m\u001b[38;5;241;43m.\u001b[39;49m\u001b[43m_get_upload_input_manager_cls\u001b[49m\u001b[43m(\u001b[49m\n\u001b[1;32m    586\u001b[0m \u001b[43m        \u001b[49m\u001b[43mtransfer_future\u001b[49m\n\u001b[1;32m    587\u001b[0m \u001b[43m    \u001b[49m\u001b[43m)\u001b[49m(osutil, \u001b[38;5;28mself\u001b[39m\u001b[38;5;241m.\u001b[39m_transfer_coordinator, bandwidth_limiter)\n\u001b[1;32m    589\u001b[0m     \u001b[38;5;66;03m# Determine the size if it was not provided\u001b[39;00m\n\u001b[1;32m    590\u001b[0m     \u001b[38;5;28;01mif\u001b[39;00m transfer_future\u001b[38;5;241m.\u001b[39mmeta\u001b[38;5;241m.\u001b[39msize \u001b[38;5;129;01mis\u001b[39;00m \u001b[38;5;28;01mNone\u001b[39;00m:\n",
      "File \u001b[0;32m~/anaconda3/envs/python3/lib/python3.10/site-packages/s3transfer/upload.py:550\u001b[0m, in \u001b[0;36mUploadSubmissionTask._get_upload_input_manager_cls\u001b[0;34m(self, transfer_future)\u001b[0m\n\u001b[1;32m    548\u001b[0m fileobj \u001b[38;5;241m=\u001b[39m transfer_future\u001b[38;5;241m.\u001b[39mmeta\u001b[38;5;241m.\u001b[39mcall_args\u001b[38;5;241m.\u001b[39mfileobj\n\u001b[1;32m    549\u001b[0m \u001b[38;5;28;01mfor\u001b[39;00m upload_manager_cls \u001b[38;5;129;01min\u001b[39;00m upload_manager_resolver_chain:\n\u001b[0;32m--> 550\u001b[0m     \u001b[38;5;28;01mif\u001b[39;00m \u001b[43mupload_manager_cls\u001b[49m\u001b[38;5;241;43m.\u001b[39;49m\u001b[43mis_compatible\u001b[49m\u001b[43m(\u001b[49m\u001b[43mfileobj\u001b[49m\u001b[43m)\u001b[49m:\n\u001b[1;32m    551\u001b[0m         \u001b[38;5;28;01mreturn\u001b[39;00m upload_manager_cls\n\u001b[1;32m    552\u001b[0m \u001b[38;5;28;01mraise\u001b[39;00m \u001b[38;5;167;01mRuntimeError\u001b[39;00m(\n\u001b[1;32m    553\u001b[0m     \u001b[38;5;124m'\u001b[39m\u001b[38;5;124mInput \u001b[39m\u001b[38;5;132;01m{}\u001b[39;00m\u001b[38;5;124m of type: \u001b[39m\u001b[38;5;132;01m{}\u001b[39;00m\u001b[38;5;124m is not supported.\u001b[39m\u001b[38;5;124m'\u001b[39m\u001b[38;5;241m.\u001b[39mformat(\n\u001b[1;32m    554\u001b[0m         fileobj, \u001b[38;5;28mtype\u001b[39m(fileobj)\n\u001b[1;32m    555\u001b[0m     )\n\u001b[1;32m    556\u001b[0m )\n",
      "File \u001b[0;32m~/anaconda3/envs/python3/lib/python3.10/site-packages/s3transfer/upload.py:330\u001b[0m, in \u001b[0;36mUploadSeekableInputManager.is_compatible\u001b[0;34m(cls, upload_source)\u001b[0m\n\u001b[1;32m    328\u001b[0m \u001b[38;5;129m@classmethod\u001b[39m\n\u001b[1;32m    329\u001b[0m \u001b[38;5;28;01mdef\u001b[39;00m \u001b[38;5;21mis_compatible\u001b[39m(\u001b[38;5;28mcls\u001b[39m, upload_source):\n\u001b[0;32m--> 330\u001b[0m     \u001b[38;5;28;01mreturn\u001b[39;00m \u001b[43mreadable\u001b[49m\u001b[43m(\u001b[49m\u001b[43mupload_source\u001b[49m\u001b[43m)\u001b[49m \u001b[38;5;129;01mand\u001b[39;00m seekable(upload_source)\n",
      "File \u001b[0;32m~/anaconda3/envs/python3/lib/python3.10/site-packages/s3transfer/compat.py:81\u001b[0m, in \u001b[0;36mreadable\u001b[0;34m(fileobj)\u001b[0m\n\u001b[1;32m     74\u001b[0m \u001b[38;5;250m\u001b[39m\u001b[38;5;124;03m\"\"\"Determines whether or not a file-like object is readable.\u001b[39;00m\n\u001b[1;32m     75\u001b[0m \n\u001b[1;32m     76\u001b[0m \u001b[38;5;124;03m:param fileobj: The file-like object to determine if readable\u001b[39;00m\n\u001b[1;32m     77\u001b[0m \n\u001b[1;32m     78\u001b[0m \u001b[38;5;124;03m:returns: True, if readable. False otherwise.\u001b[39;00m\n\u001b[1;32m     79\u001b[0m \u001b[38;5;124;03m\"\"\"\u001b[39;00m\n\u001b[1;32m     80\u001b[0m \u001b[38;5;28;01mif\u001b[39;00m \u001b[38;5;28mhasattr\u001b[39m(fileobj, \u001b[38;5;124m'\u001b[39m\u001b[38;5;124mreadable\u001b[39m\u001b[38;5;124m'\u001b[39m):\n\u001b[0;32m---> 81\u001b[0m     \u001b[38;5;28;01mreturn\u001b[39;00m \u001b[43mfileobj\u001b[49m\u001b[38;5;241;43m.\u001b[39;49m\u001b[43mreadable\u001b[49m\u001b[43m(\u001b[49m\u001b[43m)\u001b[49m\n\u001b[1;32m     83\u001b[0m \u001b[38;5;28;01mreturn\u001b[39;00m \u001b[38;5;28mhasattr\u001b[39m(fileobj, \u001b[38;5;124m'\u001b[39m\u001b[38;5;124mread\u001b[39m\u001b[38;5;124m'\u001b[39m)\n",
      "\u001b[0;31mValueError\u001b[0m: I/O operation on closed file."
     ]
    }
   ],
   "source": [
    "import os\n",
    "\n",
    "key = 'linear-train-data' # refers to name of file in S3\n",
    "\n",
    "boto3.resource('s3').Bucket(bucket).Object(os.path.join(prefix, 'train', key)).upload_fileobj(buf) # uploads data to S3\n",
    "\n"
   ]
  },
  {
   "cell_type": "code",
   "execution_count": 92,
   "id": "0e48dd32",
   "metadata": {},
   "outputs": [
    {
     "name": "stdout",
     "output_type": "stream",
     "text": [
      "s3://sagemaker-implementation/linear_learner/train/linear-train-data\n"
     ]
    }
   ],
   "source": [
    "# input and output placeholder in S3 to store linear learner data\n",
    "s3_train_data = 's3://{}/{}/train/{}'.format(bucket, prefix, key) # input training data location\n",
    "output_location = 's3://{}/{}/output'.format(bucket, prefix)\n"
   ]
  },
  {
   "cell_type": "code",
   "execution_count": 93,
   "id": "11b301e2",
   "metadata": {},
   "outputs": [
    {
     "name": "stderr",
     "output_type": "stream",
     "text": [
      "INFO:sagemaker.image_uris:Same images used for training and inference. Defaulting to image scope: inference.\n",
      "INFO:sagemaker.image_uris:Defaulting to the only supported framework/algorithm version: 1.\n",
      "INFO:sagemaker.image_uris:Ignoring unnecessary instance type: None.\n",
      "INFO:sagemaker:Creating training-job with name: linear-learner-2024-09-06-13-01-58-105\n"
     ]
    },
    {
     "name": "stdout",
     "output_type": "stream",
     "text": [
      "s3://sagemaker-implementation/linear_learner/output\n",
      "2024-09-06 13:01:59 Starting - Starting the training job...\n",
      "2024-09-06 13:02:12 Starting - Preparing the instances for training...\n",
      "2024-09-06 13:02:38 Downloading - Downloading input data...\n",
      "2024-09-06 13:03:18 Downloading - Downloading the training image.........\n",
      "2024-09-06 13:04:54 Training - Training image download completed. Training in progress..\u001b[34mDocker entrypoint called with argument(s): train\u001b[0m\n",
      "\u001b[34mRunning default environment configuration script\u001b[0m\n",
      "\u001b[34m[09/06/2024 13:04:59 INFO 139967254308672] Reading default configuration from /opt/amazon/lib/python3.8/site-packages/algorithm/resources/default-input.json: {'mini_batch_size': '1000', 'epochs': '15', 'feature_dim': 'auto', 'use_bias': 'true', 'binary_classifier_model_selection_criteria': 'accuracy', 'f_beta': '1.0', 'target_recall': '0.8', 'target_precision': '0.8', 'num_models': 'auto', 'num_calibration_samples': '10000000', 'init_method': 'uniform', 'init_scale': '0.07', 'init_sigma': '0.01', 'init_bias': '0.0', 'optimizer': 'auto', 'loss': 'auto', 'margin': '1.0', 'quantile': '0.5', 'loss_insensitivity': '0.01', 'huber_delta': '1.0', 'num_classes': '1', 'accuracy_top_k': '3', 'wd': 'auto', 'l1': 'auto', 'momentum': 'auto', 'learning_rate': 'auto', 'beta_1': 'auto', 'beta_2': 'auto', 'bias_lr_mult': 'auto', 'bias_wd_mult': 'auto', 'use_lr_scheduler': 'true', 'lr_scheduler_step': 'auto', 'lr_scheduler_factor': 'auto', 'lr_scheduler_minimum_lr': 'auto', 'positive_example_weight_mult': '1.0', 'balance_multiclass_weights': 'false', 'normalize_data': 'true', 'normalize_label': 'auto', 'unbias_data': 'auto', 'unbias_label': 'auto', 'num_point_for_scaler': '10000', '_kvstore': 'auto', '_num_gpus': 'auto', '_num_kv_servers': 'auto', '_log_level': 'info', '_tuning_objective_metric': '', 'early_stopping_patience': '3', 'early_stopping_tolerance': '0.001', '_enable_profiler': 'false'}\u001b[0m\n",
      "\u001b[34m[09/06/2024 13:04:59 INFO 139967254308672] Merging with provided configuration from /opt/ml/input/config/hyperparameters.json: {'epochs': '5', 'feature_dim': '1', 'loss': 'absolute_loss', 'mini_batch_size': '5', 'num_models': '32', 'predictor_type': 'regressor'}\u001b[0m\n",
      "\u001b[34m[09/06/2024 13:04:59 INFO 139967254308672] Final configuration: {'mini_batch_size': '5', 'epochs': '5', 'feature_dim': '1', 'use_bias': 'true', 'binary_classifier_model_selection_criteria': 'accuracy', 'f_beta': '1.0', 'target_recall': '0.8', 'target_precision': '0.8', 'num_models': '32', 'num_calibration_samples': '10000000', 'init_method': 'uniform', 'init_scale': '0.07', 'init_sigma': '0.01', 'init_bias': '0.0', 'optimizer': 'auto', 'loss': 'absolute_loss', 'margin': '1.0', 'quantile': '0.5', 'loss_insensitivity': '0.01', 'huber_delta': '1.0', 'num_classes': '1', 'accuracy_top_k': '3', 'wd': 'auto', 'l1': 'auto', 'momentum': 'auto', 'learning_rate': 'auto', 'beta_1': 'auto', 'beta_2': 'auto', 'bias_lr_mult': 'auto', 'bias_wd_mult': 'auto', 'use_lr_scheduler': 'true', 'lr_scheduler_step': 'auto', 'lr_scheduler_factor': 'auto', 'lr_scheduler_minimum_lr': 'auto', 'positive_example_weight_mult': '1.0', 'balance_multiclass_weights': 'false', 'normalize_data': 'true', 'normalize_label': 'auto', 'unbias_data': 'auto', 'unbias_label': 'auto', 'num_point_for_scaler': '10000', '_kvstore': 'auto', '_num_gpus': 'auto', '_num_kv_servers': 'auto', '_log_level': 'info', '_tuning_objective_metric': '', 'early_stopping_patience': '3', 'early_stopping_tolerance': '0.001', '_enable_profiler': 'false', 'predictor_type': 'regressor'}\u001b[0m\n",
      "\u001b[34m/opt/amazon/lib/python3.8/site-packages/mxnet/model.py:97: SyntaxWarning: \"is\" with a literal. Did you mean \"==\"?\n",
      "  if num_device is 1 and 'dist' not in kvstore:\u001b[0m\n",
      "\u001b[34m/opt/amazon/lib/python3.8/site-packages/scipy/optimize/_shgo.py:495: SyntaxWarning: \"is\" with a literal. Did you mean \"==\"?\n",
      "  if cons['type'] is 'ineq':\u001b[0m\n",
      "\u001b[34m/opt/amazon/lib/python3.8/site-packages/scipy/optimize/_shgo.py:743: SyntaxWarning: \"is not\" with a literal. Did you mean \"!=\"?\n",
      "  if len(self.X_min) is not 0:\u001b[0m\n",
      "\u001b[34m[09/06/2024 13:05:02 WARNING 139967254308672] Loggers have already been setup.\u001b[0m\n",
      "\u001b[34m[09/06/2024 13:05:02 INFO 139967254308672] Final configuration: {'mini_batch_size': '5', 'epochs': '5', 'feature_dim': '1', 'use_bias': 'true', 'binary_classifier_model_selection_criteria': 'accuracy', 'f_beta': '1.0', 'target_recall': '0.8', 'target_precision': '0.8', 'num_models': '32', 'num_calibration_samples': '10000000', 'init_method': 'uniform', 'init_scale': '0.07', 'init_sigma': '0.01', 'init_bias': '0.0', 'optimizer': 'auto', 'loss': 'absolute_loss', 'margin': '1.0', 'quantile': '0.5', 'loss_insensitivity': '0.01', 'huber_delta': '1.0', 'num_classes': '1', 'accuracy_top_k': '3', 'wd': 'auto', 'l1': 'auto', 'momentum': 'auto', 'learning_rate': 'auto', 'beta_1': 'auto', 'beta_2': 'auto', 'bias_lr_mult': 'auto', 'bias_wd_mult': 'auto', 'use_lr_scheduler': 'true', 'lr_scheduler_step': 'auto', 'lr_scheduler_factor': 'auto', 'lr_scheduler_minimum_lr': 'auto', 'positive_example_weight_mult': '1.0', 'balance_multiclass_weights': 'false', 'normalize_data': 'true', 'normalize_label': 'auto', 'unbias_data': 'auto', 'unbias_label': 'auto', 'num_point_for_scaler': '10000', '_kvstore': 'auto', '_num_gpus': 'auto', '_num_kv_servers': 'auto', '_log_level': 'info', '_tuning_objective_metric': '', 'early_stopping_patience': '3', 'early_stopping_tolerance': '0.001', '_enable_profiler': 'false', 'predictor_type': 'regressor'}\u001b[0m\n",
      "\u001b[34m[09/06/2024 13:05:02 WARNING 139967254308672] Loggers have already been setup.\u001b[0m\n",
      "\u001b[34mProcess 6 is a worker.\u001b[0m\n",
      "\u001b[34m[09/06/2024 13:05:02 INFO 139967254308672] Using default worker.\u001b[0m\n",
      "\u001b[34m[09/06/2024 13:05:02 INFO 139967254308672] Checkpoint loading and saving are disabled.\u001b[0m\n",
      "\u001b[34m[2024-09-06 13:05:02.520] [tensorio] [info] epoch_stats={\"data_pipeline\": \"/opt/ml/input/data/train\", \"epoch\": 0, \"duration\": 22, \"num_examples\": 1, \"num_bytes\": 240}\u001b[0m\n",
      "\u001b[34m[09/06/2024 13:05:02 INFO 139967254308672] Create Store: local\u001b[0m\n",
      "\u001b[34m[2024-09-06 13:05:02.581] [tensorio] [info] epoch_stats={\"data_pipeline\": \"/opt/ml/input/data/train\", \"epoch\": 1, \"duration\": 60, \"num_examples\": 6, \"num_bytes\": 1344}\u001b[0m\n",
      "\u001b[34m[09/06/2024 13:05:02 INFO 139967254308672] Scaler algorithm parameters\n",
      " <algorithm.scaler.ScalerAlgorithmStable object at 0x7f4c23aeb490>\u001b[0m\n",
      "\u001b[34m[09/06/2024 13:05:02 INFO 139967254308672] Scaling model computed with parameters:\n",
      " {'stdev_label': \u001b[0m\n",
      "\u001b[34m[30251.867]\u001b[0m\n",
      "\u001b[34m<NDArray 1 @cpu(0)>, 'stdev_weight': \u001b[0m\n",
      "\u001b[34m[3.3464587]\u001b[0m\n",
      "\u001b[34m<NDArray 1 @cpu(0)>, 'mean_label': \u001b[0m\n",
      "\u001b[34m[85588.69]\u001b[0m\n",
      "\u001b[34m<NDArray 1 @cpu(0)>, 'mean_weight': \u001b[0m\n",
      "\u001b[34m[6.3960004]\u001b[0m\n",
      "\u001b[34m<NDArray 1 @cpu(0)>}\u001b[0m\n",
      "\u001b[34m/opt/amazon/python3.8/lib/python3.8/subprocess.py:848: RuntimeWarning: line buffering (buffering=1) isn't supported in binary mode, the default buffer size will be used\n",
      "  self.stdout = io.open(c2pread, 'rb', bufsize)\u001b[0m\n",
      "\u001b[34m[09/06/2024 13:05:02 INFO 139967254308672] nvidia-smi: took 0.038 seconds to run.\u001b[0m\n",
      "\u001b[34m[09/06/2024 13:05:02 INFO 139967254308672] nvidia-smi identified 0 GPUs.\u001b[0m\n",
      "\u001b[34m[09/06/2024 13:05:02 INFO 139967254308672] Number of GPUs being used: 0\u001b[0m\n",
      "\u001b[34m#metrics {\"StartTime\": 1725627902.717105, \"EndTime\": 1725627902.7171621, \"Dimensions\": {\"Algorithm\": \"Linear Learner\", \"Host\": \"algo-1\", \"Operation\": \"training\", \"Meta\": \"init_train_data_iter\"}, \"Metrics\": {\"Total Records Seen\": {\"sum\": 33.0, \"count\": 1, \"min\": 33, \"max\": 33}, \"Total Batches Seen\": {\"sum\": 7.0, \"count\": 1, \"min\": 7, \"max\": 7}, \"Max Records Seen Between Resets\": {\"sum\": 28.0, \"count\": 1, \"min\": 28, \"max\": 28}, \"Max Batches Seen Between Resets\": {\"sum\": 6.0, \"count\": 1, \"min\": 6, \"max\": 6}, \"Reset Count\": {\"sum\": 2.0, \"count\": 1, \"min\": 2, \"max\": 2}, \"Number of Records Since Last Reset\": {\"sum\": 0.0, \"count\": 1, \"min\": 0, \"max\": 0}, \"Number of Batches Since Last Reset\": {\"sum\": 0.0, \"count\": 1, \"min\": 0, \"max\": 0}}}\u001b[0m\n",
      "\u001b[34m[2024-09-06 13:05:02.871] [tensorio] [info] epoch_stats={\"data_pipeline\": \"/opt/ml/input/data/train\", \"epoch\": 4, \"duration\": 152, \"num_examples\": 6, \"num_bytes\": 1344}\u001b[0m\n",
      "\u001b[34m#metrics {\"StartTime\": 1725627902.8714905, \"EndTime\": 1725627902.8715932, \"Dimensions\": {\"Algorithm\": \"Linear Learner\", \"Host\": \"algo-1\", \"Operation\": \"training\", \"epoch\": 0, \"model\": 0}, \"Metrics\": {\"train_absolute_loss_objective\": {\"sum\": 0.8976554489135742, \"count\": 1, \"min\": 0.8976554489135742, \"max\": 0.8976554489135742}}}\u001b[0m\n",
      "\u001b[34m#metrics {\"StartTime\": 1725627902.872031, \"EndTime\": 1725627902.8720832, \"Dimensions\": {\"Algorithm\": \"Linear Learner\", \"Host\": \"algo-1\", \"Operation\": \"training\", \"epoch\": 0, \"model\": 1}, \"Metrics\": {\"train_absolute_loss_objective\": {\"sum\": 0.9173834800720215, \"count\": 1, \"min\": 0.9173834800720215, \"max\": 0.9173834800720215}}}\u001b[0m\n",
      "\u001b[34m#metrics {\"StartTime\": 1725627902.8723967, \"EndTime\": 1725627902.8724387, \"Dimensions\": {\"Algorithm\": \"Linear Learner\", \"Host\": \"algo-1\", \"Operation\": \"training\", \"epoch\": 0, \"model\": 2}, \"Metrics\": {\"train_absolute_loss_objective\": {\"sum\": 0.9000452327728271, \"count\": 1, \"min\": 0.9000452327728271, \"max\": 0.9000452327728271}}}\u001b[0m\n",
      "\u001b[34m#metrics {\"StartTime\": 1725627902.8727484, \"EndTime\": 1725627902.872767, \"Dimensions\": {\"Algorithm\": \"Linear Learner\", \"Host\": \"algo-1\", \"Operation\": \"training\", \"epoch\": 0, \"model\": 3}, \"Metrics\": {\"train_absolute_loss_objective\": {\"sum\": 0.9163753032684326, \"count\": 1, \"min\": 0.9163753032684326, \"max\": 0.9163753032684326}}}\u001b[0m\n",
      "\u001b[34m#metrics {\"StartTime\": 1725627902.873134, \"EndTime\": 1725627902.873176, \"Dimensions\": {\"Algorithm\": \"Linear Learner\", \"Host\": \"algo-1\", \"Operation\": \"training\", \"epoch\": 0, \"model\": 4}, \"Metrics\": {\"train_absolute_loss_objective\": {\"sum\": 0.8319714641571045, \"count\": 1, \"min\": 0.8319714641571045, \"max\": 0.8319714641571045}}}\u001b[0m\n",
      "\u001b[34m#metrics {\"StartTime\": 1725627902.8734848, \"EndTime\": 1725627902.8735347, \"Dimensions\": {\"Algorithm\": \"Linear Learner\", \"Host\": \"algo-1\", \"Operation\": \"training\", \"epoch\": 0, \"model\": 5}, \"Metrics\": {\"train_absolute_loss_objective\": {\"sum\": 0.8392673301696777, \"count\": 1, \"min\": 0.8392673301696777, \"max\": 0.8392673301696777}}}\u001b[0m\n",
      "\u001b[34m#metrics {\"StartTime\": 1725627902.87388, \"EndTime\": 1725627902.8739262, \"Dimensions\": {\"Algorithm\": \"Linear Learner\", \"Host\": \"algo-1\", \"Operation\": \"training\", \"epoch\": 0, \"model\": 6}, \"Metrics\": {\"train_absolute_loss_objective\": {\"sum\": 0.9392698860168457, \"count\": 1, \"min\": 0.9392698860168457, \"max\": 0.9392698860168457}}}\u001b[0m\n",
      "\u001b[34m#metrics {\"StartTime\": 1725627902.8742425, \"EndTime\": 1725627902.8742852, \"Dimensions\": {\"Algorithm\": \"Linear Learner\", \"Host\": \"algo-1\", \"Operation\": \"training\", \"epoch\": 0, \"model\": 7}, \"Metrics\": {\"train_absolute_loss_objective\": {\"sum\": 0.8830917358398438, \"count\": 1, \"min\": 0.8830917358398438, \"max\": 0.8830917358398438}}}\u001b[0m\n",
      "\u001b[34m#metrics {\"StartTime\": 1725627902.8745968, \"EndTime\": 1725627902.8746145, \"Dimensions\": {\"Algorithm\": \"Linear Learner\", \"Host\": \"algo-1\", \"Operation\": \"training\", \"epoch\": 0, \"model\": 8}, \"Metrics\": {\"train_absolute_loss_objective\": {\"sum\": 0.9530468654632568, \"count\": 1, \"min\": 0.9530468654632568, \"max\": 0.9530468654632568}}}\u001b[0m\n",
      "\u001b[34m#metrics {\"StartTime\": 1725627902.874948, \"EndTime\": 1725627902.8749657, \"Dimensions\": {\"Algorithm\": \"Linear Learner\", \"Host\": \"algo-1\", \"Operation\": \"training\", \"epoch\": 0, \"model\": 9}, \"Metrics\": {\"train_absolute_loss_objective\": {\"sum\": 0.8857347679138183, \"count\": 1, \"min\": 0.8857347679138183, \"max\": 0.8857347679138183}}}\u001b[0m\n",
      "\u001b[34m#metrics {\"StartTime\": 1725627902.8752859, \"EndTime\": 1725627902.8753264, \"Dimensions\": {\"Algorithm\": \"Linear Learner\", \"Host\": \"algo-1\", \"Operation\": \"training\", \"epoch\": 0, \"model\": 10}, \"Metrics\": {\"train_absolute_loss_objective\": {\"sum\": 0.8923727607727051, \"count\": 1, \"min\": 0.8923727607727051, \"max\": 0.8923727607727051}}}\u001b[0m\n",
      "\u001b[34m#metrics {\"StartTime\": 1725627902.8757203, \"EndTime\": 1725627902.8757398, \"Dimensions\": {\"Algorithm\": \"Linear Learner\", \"Host\": \"algo-1\", \"Operation\": \"training\", \"epoch\": 0, \"model\": 11}, \"Metrics\": {\"train_absolute_loss_objective\": {\"sum\": 0.8776942443847656, \"count\": 1, \"min\": 0.8776942443847656, \"max\": 0.8776942443847656}}}\u001b[0m\n",
      "\u001b[34m#metrics {\"StartTime\": 1725627902.8760436, \"EndTime\": 1725627902.8760624, \"Dimensions\": {\"Algorithm\": \"Linear Learner\", \"Host\": \"algo-1\", \"Operation\": \"training\", \"epoch\": 0, \"model\": 12}, \"Metrics\": {\"train_absolute_loss_objective\": {\"sum\": 0.8386083602905273, \"count\": 1, \"min\": 0.8386083602905273, \"max\": 0.8386083602905273}}}\u001b[0m\n",
      "\u001b[34m#metrics {\"StartTime\": 1725627902.8763993, \"EndTime\": 1725627902.876446, \"Dimensions\": {\"Algorithm\": \"Linear Learner\", \"Host\": \"algo-1\", \"Operation\": \"training\", \"epoch\": 0, \"model\": 13}, \"Metrics\": {\"train_absolute_loss_objective\": {\"sum\": 0.8586420726776123, \"count\": 1, \"min\": 0.8586420726776123, \"max\": 0.8586420726776123}}}\u001b[0m\n",
      "\u001b[34m#metrics {\"StartTime\": 1725627902.8767803, \"EndTime\": 1725627902.8768318, \"Dimensions\": {\"Algorithm\": \"Linear Learner\", \"Host\": \"algo-1\", \"Operation\": \"training\", \"epoch\": 0, \"model\": 14}, \"Metrics\": {\"train_absolute_loss_objective\": {\"sum\": 0.8374935150146484, \"count\": 1, \"min\": 0.8374935150146484, \"max\": 0.8374935150146484}}}\u001b[0m\n",
      "\u001b[34m#metrics {\"StartTime\": 1725627902.8771768, \"EndTime\": 1725627902.8772237, \"Dimensions\": {\"Algorithm\": \"Linear Learner\", \"Host\": \"algo-1\", \"Operation\": \"training\", \"epoch\": 0, \"model\": 15}, \"Metrics\": {\"train_absolute_loss_objective\": {\"sum\": 0.8639778804779052, \"count\": 1, \"min\": 0.8639778804779052, \"max\": 0.8639778804779052}}}\u001b[0m\n",
      "\u001b[34m#metrics {\"StartTime\": 1725627902.8775358, \"EndTime\": 1725627902.8776116, \"Dimensions\": {\"Algorithm\": \"Linear Learner\", \"Host\": \"algo-1\", \"Operation\": \"training\", \"epoch\": 0, \"model\": 16}, \"Metrics\": {\"train_absolute_loss_objective\": {\"sum\": 0.8618537521362305, \"count\": 1, \"min\": 0.8618537521362305, \"max\": 0.8618537521362305}}}\u001b[0m\n",
      "\u001b[34m#metrics {\"StartTime\": 1725627902.878034, \"EndTime\": 1725627902.878056, \"Dimensions\": {\"Algorithm\": \"Linear Learner\", \"Host\": \"algo-1\", \"Operation\": \"training\", \"epoch\": 0, \"model\": 17}, \"Metrics\": {\"train_absolute_loss_objective\": {\"sum\": 0.9126727294921875, \"count\": 1, \"min\": 0.9126727294921875, \"max\": 0.9126727294921875}}}\u001b[0m\n",
      "\u001b[34m#metrics {\"StartTime\": 1725627902.8783743, \"EndTime\": 1725627902.8784173, \"Dimensions\": {\"Algorithm\": \"Linear Learner\", \"Host\": \"algo-1\", \"Operation\": \"training\", \"epoch\": 0, \"model\": 18}, \"Metrics\": {\"train_absolute_loss_objective\": {\"sum\": 0.888689546585083, \"count\": 1, \"min\": 0.888689546585083, \"max\": 0.888689546585083}}}\u001b[0m\n",
      "\u001b[34m#metrics {\"StartTime\": 1725627902.8787415, \"EndTime\": 1725627902.8787823, \"Dimensions\": {\"Algorithm\": \"Linear Learner\", \"Host\": \"algo-1\", \"Operation\": \"training\", \"epoch\": 0, \"model\": 19}, \"Metrics\": {\"train_absolute_loss_objective\": {\"sum\": 0.8860105895996093, \"count\": 1, \"min\": 0.8860105895996093, \"max\": 0.8860105895996093}}}\u001b[0m\n",
      "\u001b[34m#metrics {\"StartTime\": 1725627902.8790839, \"EndTime\": 1725627902.8791256, \"Dimensions\": {\"Algorithm\": \"Linear Learner\", \"Host\": \"algo-1\", \"Operation\": \"training\", \"epoch\": 0, \"model\": 20}, \"Metrics\": {\"train_absolute_loss_objective\": {\"sum\": 0.8755899429321289, \"count\": 1, \"min\": 0.8755899429321289, \"max\": 0.8755899429321289}}}\u001b[0m\n",
      "\u001b[34m#metrics {\"StartTime\": 1725627902.879431, \"EndTime\": 1725627902.8794913, \"Dimensions\": {\"Algorithm\": \"Linear Learner\", \"Host\": \"algo-1\", \"Operation\": \"training\", \"epoch\": 0, \"model\": 21}, \"Metrics\": {\"train_absolute_loss_objective\": {\"sum\": 0.8882796096801758, \"count\": 1, \"min\": 0.8882796096801758, \"max\": 0.8882796096801758}}}\u001b[0m\n",
      "\u001b[34m#metrics {\"StartTime\": 1725627902.8798366, \"EndTime\": 1725627902.8798773, \"Dimensions\": {\"Algorithm\": \"Linear Learner\", \"Host\": \"algo-1\", \"Operation\": \"training\", \"epoch\": 0, \"model\": 22}, \"Metrics\": {\"train_absolute_loss_objective\": {\"sum\": 0.8357103538513183, \"count\": 1, \"min\": 0.8357103538513183, \"max\": 0.8357103538513183}}}\u001b[0m\n",
      "\u001b[34m#metrics {\"StartTime\": 1725627902.8801162, \"EndTime\": 1725627902.880136, \"Dimensions\": {\"Algorithm\": \"Linear Learner\", \"Host\": \"algo-1\", \"Operation\": \"training\", \"epoch\": 0, \"model\": 23}, \"Metrics\": {\"train_absolute_loss_objective\": {\"sum\": 0.9419471931457519, \"count\": 1, \"min\": 0.9419471931457519, \"max\": 0.9419471931457519}}}\u001b[0m\n",
      "\u001b[34m#metrics {\"StartTime\": 1725627902.8801982, \"EndTime\": 1725627902.8802118, \"Dimensions\": {\"Algorithm\": \"Linear Learner\", \"Host\": \"algo-1\", \"Operation\": \"training\", \"epoch\": 0, \"model\": 24}, \"Metrics\": {\"train_absolute_loss_objective\": {\"sum\": 0.8601563358306885, \"count\": 1, \"min\": 0.8601563358306885, \"max\": 0.8601563358306885}}}\u001b[0m\n",
      "\u001b[34m#metrics {\"StartTime\": 1725627902.8802457, \"EndTime\": 1725627902.8802547, \"Dimensions\": {\"Algorithm\": \"Linear Learner\", \"Host\": \"algo-1\", \"Operation\": \"training\", \"epoch\": 0, \"model\": 25}, \"Metrics\": {\"train_absolute_loss_objective\": {\"sum\": 0.9308005332946777, \"count\": 1, \"min\": 0.9308005332946777, \"max\": 0.9308005332946777}}}\u001b[0m\n",
      "\u001b[34m#metrics {\"StartTime\": 1725627902.8802848, \"EndTime\": 1725627902.8802936, \"Dimensions\": {\"Algorithm\": \"Linear Learner\", \"Host\": \"algo-1\", \"Operation\": \"training\", \"epoch\": 0, \"model\": 26}, \"Metrics\": {\"train_absolute_loss_objective\": {\"sum\": 0.9175602245330811, \"count\": 1, \"min\": 0.9175602245330811, \"max\": 0.9175602245330811}}}\u001b[0m\n",
      "\u001b[34m#metrics {\"StartTime\": 1725627902.880325, \"EndTime\": 1725627902.8803325, \"Dimensions\": {\"Algorithm\": \"Linear Learner\", \"Host\": \"algo-1\", \"Operation\": \"training\", \"epoch\": 0, \"model\": 27}, \"Metrics\": {\"train_absolute_loss_objective\": {\"sum\": 0.9065084838867188, \"count\": 1, \"min\": 0.9065084838867188, \"max\": 0.9065084838867188}}}\u001b[0m\n",
      "\u001b[34m#metrics {\"StartTime\": 1725627902.8803623, \"EndTime\": 1725627902.8803697, \"Dimensions\": {\"Algorithm\": \"Linear Learner\", \"Host\": \"algo-1\", \"Operation\": \"training\", \"epoch\": 0, \"model\": 28}, \"Metrics\": {\"train_absolute_loss_objective\": {\"sum\": 1.0024581909179688, \"count\": 1, \"min\": 1.0024581909179688, \"max\": 1.0024581909179688}}}\u001b[0m\n",
      "\u001b[34m#metrics {\"StartTime\": 1725627902.8803985, \"EndTime\": 1725627902.8804073, \"Dimensions\": {\"Algorithm\": \"Linear Learner\", \"Host\": \"algo-1\", \"Operation\": \"training\", \"epoch\": 0, \"model\": 29}, \"Metrics\": {\"train_absolute_loss_objective\": {\"sum\": 1.0022693920135497, \"count\": 1, \"min\": 1.0022693920135497, \"max\": 1.0022693920135497}}}\u001b[0m\n",
      "\u001b[34m#metrics {\"StartTime\": 1725627902.880439, \"EndTime\": 1725627902.880451, \"Dimensions\": {\"Algorithm\": \"Linear Learner\", \"Host\": \"algo-1\", \"Operation\": \"training\", \"epoch\": 0, \"model\": 30}, \"Metrics\": {\"train_absolute_loss_objective\": {\"sum\": 0.9434983158111572, \"count\": 1, \"min\": 0.9434983158111572, \"max\": 0.9434983158111572}}}\u001b[0m\n",
      "\u001b[34m#metrics {\"StartTime\": 1725627902.880485, \"EndTime\": 1725627902.8804936, \"Dimensions\": {\"Algorithm\": \"Linear Learner\", \"Host\": \"algo-1\", \"Operation\": \"training\", \"epoch\": 0, \"model\": 31}, \"Metrics\": {\"train_absolute_loss_objective\": {\"sum\": 0.9396749973297119, \"count\": 1, \"min\": 0.9396749973297119, \"max\": 0.9396749973297119}}}\u001b[0m\n",
      "\u001b[34m[09/06/2024 13:05:02 INFO 139967254308672] #quality_metric: host=algo-1, epoch=0, train absolute_loss_objective <loss>=0.8976554489135742\u001b[0m\n",
      "\u001b[34m[09/06/2024 13:05:02 INFO 139967254308672] #early_stopping_criteria_metric: host=algo-1, epoch=0, criteria=absolute_loss_objective, value=0.8319714641571045\u001b[0m\n",
      "\u001b[34m[09/06/2024 13:05:02 INFO 139967254308672] Epoch 0: Loss improved. Updating best model\u001b[0m\n",
      "\u001b[34m[09/06/2024 13:05:02 INFO 139967254308672] Saving model for epoch: 0\u001b[0m\n",
      "\u001b[34m[09/06/2024 13:05:02 INFO 139967254308672] Saved checkpoint to \"/tmp/tmpjf1y0okj/mx-mod-0000.params\"\u001b[0m\n",
      "\u001b[34m[09/06/2024 13:05:02 INFO 139967254308672] #progress_metric: host=algo-1, completed 20.0 % of epochs\u001b[0m\n",
      "\u001b[34m#metrics {\"StartTime\": 1725627902.718019, \"EndTime\": 1725627902.897213, \"Dimensions\": {\"Algorithm\": \"Linear Learner\", \"Host\": \"algo-1\", \"Operation\": \"training\", \"epoch\": 0, \"Meta\": \"training_data_iter\"}, \"Metrics\": {\"Total Records Seen\": {\"sum\": 61.0, \"count\": 1, \"min\": 61, \"max\": 61}, \"Total Batches Seen\": {\"sum\": 13.0, \"count\": 1, \"min\": 13, \"max\": 13}, \"Max Records Seen Between Resets\": {\"sum\": 28.0, \"count\": 1, \"min\": 28, \"max\": 28}, \"Max Batches Seen Between Resets\": {\"sum\": 6.0, \"count\": 1, \"min\": 6, \"max\": 6}, \"Reset Count\": {\"sum\": 3.0, \"count\": 1, \"min\": 3, \"max\": 3}, \"Number of Records Since Last Reset\": {\"sum\": 28.0, \"count\": 1, \"min\": 28, \"max\": 28}, \"Number of Batches Since Last Reset\": {\"sum\": 6.0, \"count\": 1, \"min\": 6, \"max\": 6}}}\u001b[0m\n",
      "\u001b[34m[09/06/2024 13:05:02 INFO 139967254308672] #throughput_metric: host=algo-1, train throughput=155.79053268880764 records/second\u001b[0m\n",
      "\u001b[34m[2024-09-06 13:05:03.032] [tensorio] [info] epoch_stats={\"data_pipeline\": \"/opt/ml/input/data/train\", \"epoch\": 6, \"duration\": 134, \"num_examples\": 6, \"num_bytes\": 1344}\u001b[0m\n",
      "\u001b[34m#metrics {\"StartTime\": 1725627903.0330296, \"EndTime\": 1725627903.033125, \"Dimensions\": {\"Algorithm\": \"Linear Learner\", \"Host\": \"algo-1\", \"Operation\": \"training\", \"epoch\": 1, \"model\": 0}, \"Metrics\": {\"train_absolute_loss_objective\": {\"sum\": 0.8708377647399902, \"count\": 1, \"min\": 0.8708377647399902, \"max\": 0.8708377647399902}}}\u001b[0m\n",
      "\u001b[34m#metrics {\"StartTime\": 1725627903.0335581, \"EndTime\": 1725627903.0336154, \"Dimensions\": {\"Algorithm\": \"Linear Learner\", \"Host\": \"algo-1\", \"Operation\": \"training\", \"epoch\": 1, \"model\": 1}, \"Metrics\": {\"train_absolute_loss_objective\": {\"sum\": 0.8905657577514648, \"count\": 1, \"min\": 0.8905657577514648, \"max\": 0.8905657577514648}}}\u001b[0m\n",
      "\u001b[34m#metrics {\"StartTime\": 1725627903.0339494, \"EndTime\": 1725627903.0339942, \"Dimensions\": {\"Algorithm\": \"Linear Learner\", \"Host\": \"algo-1\", \"Operation\": \"training\", \"epoch\": 1, \"model\": 2}, \"Metrics\": {\"train_absolute_loss_objective\": {\"sum\": 0.8732275295257569, \"count\": 1, \"min\": 0.8732275295257569, \"max\": 0.8732275295257569}}}\u001b[0m\n",
      "\u001b[34m#metrics {\"StartTime\": 1725627903.0342872, \"EndTime\": 1725627903.0343368, \"Dimensions\": {\"Algorithm\": \"Linear Learner\", \"Host\": \"algo-1\", \"Operation\": \"training\", \"epoch\": 1, \"model\": 3}, \"Metrics\": {\"train_absolute_loss_objective\": {\"sum\": 0.889557580947876, \"count\": 1, \"min\": 0.889557580947876, \"max\": 0.889557580947876}}}\u001b[0m\n",
      "\u001b[34m#metrics {\"StartTime\": 1725627903.034667, \"EndTime\": 1725627903.0347116, \"Dimensions\": {\"Algorithm\": \"Linear Learner\", \"Host\": \"algo-1\", \"Operation\": \"training\", \"epoch\": 1, \"model\": 4}, \"Metrics\": {\"train_absolute_loss_objective\": {\"sum\": 0.47373772621154786, \"count\": 1, \"min\": 0.47373772621154786, \"max\": 0.47373772621154786}}}\u001b[0m\n",
      "\u001b[34m#metrics {\"StartTime\": 1725627903.0350277, \"EndTime\": 1725627903.035069, \"Dimensions\": {\"Algorithm\": \"Linear Learner\", \"Host\": \"algo-1\", \"Operation\": \"training\", \"epoch\": 1, \"model\": 5}, \"Metrics\": {\"train_absolute_loss_objective\": {\"sum\": 0.4826189374923706, \"count\": 1, \"min\": 0.4826189374923706, \"max\": 0.4826189374923706}}}\u001b[0m\n",
      "\u001b[34m#metrics {\"StartTime\": 1725627903.0355484, \"EndTime\": 1725627903.0355685, \"Dimensions\": {\"Algorithm\": \"Linear Learner\", \"Host\": \"algo-1\", \"Operation\": \"training\", \"epoch\": 1, \"model\": 6}, \"Metrics\": {\"train_absolute_loss_objective\": {\"sum\": 0.5029970407485962, \"count\": 1, \"min\": 0.5029970407485962, \"max\": 0.5029970407485962}}}\u001b[0m\n",
      "\u001b[34m#metrics {\"StartTime\": 1725627903.0359085, \"EndTime\": 1725627903.0359266, \"Dimensions\": {\"Algorithm\": \"Linear Learner\", \"Host\": \"algo-1\", \"Operation\": \"training\", \"epoch\": 1, \"model\": 7}, \"Metrics\": {\"train_absolute_loss_objective\": {\"sum\": 0.546332778930664, \"count\": 1, \"min\": 0.546332778930664, \"max\": 0.546332778930664}}}\u001b[0m\n",
      "\u001b[34m#metrics {\"StartTime\": 1725627903.0363226, \"EndTime\": 1725627903.0363631, \"Dimensions\": {\"Algorithm\": \"Linear Learner\", \"Host\": \"algo-1\", \"Operation\": \"training\", \"epoch\": 1, \"model\": 8}, \"Metrics\": {\"train_absolute_loss_objective\": {\"sum\": 0.9262285327911377, \"count\": 1, \"min\": 0.9262285327911377, \"max\": 0.9262285327911377}}}\u001b[0m\n",
      "\u001b[34m#metrics {\"StartTime\": 1725627903.036663, \"EndTime\": 1725627903.0367095, \"Dimensions\": {\"Algorithm\": \"Linear Learner\", \"Host\": \"algo-1\", \"Operation\": \"training\", \"epoch\": 1, \"model\": 9}, \"Metrics\": {\"train_absolute_loss_objective\": {\"sum\": 0.8589181518554687, \"count\": 1, \"min\": 0.8589181518554687, \"max\": 0.8589181518554687}}}\u001b[0m\n",
      "\u001b[34m#metrics {\"StartTime\": 1725627903.0370424, \"EndTime\": 1725627903.0370903, \"Dimensions\": {\"Algorithm\": \"Linear Learner\", \"Host\": \"algo-1\", \"Operation\": \"training\", \"epoch\": 1, \"model\": 10}, \"Metrics\": {\"train_absolute_loss_objective\": {\"sum\": 0.8655559730529785, \"count\": 1, \"min\": 0.8655559730529785, \"max\": 0.8655559730529785}}}\u001b[0m\n",
      "\u001b[34m#metrics {\"StartTime\": 1725627903.037395, \"EndTime\": 1725627903.037413, \"Dimensions\": {\"Algorithm\": \"Linear Learner\", \"Host\": \"algo-1\", \"Operation\": \"training\", \"epoch\": 1, \"model\": 11}, \"Metrics\": {\"train_absolute_loss_objective\": {\"sum\": 0.8508778095245362, \"count\": 1, \"min\": 0.8508778095245362, \"max\": 0.8508778095245362}}}\u001b[0m\n",
      "\u001b[34m#metrics {\"StartTime\": 1725627903.0377164, \"EndTime\": 1725627903.0377352, \"Dimensions\": {\"Algorithm\": \"Linear Learner\", \"Host\": \"algo-1\", \"Operation\": \"training\", \"epoch\": 1, \"model\": 12}, \"Metrics\": {\"train_absolute_loss_objective\": {\"sum\": 0.48227887630462646, \"count\": 1, \"min\": 0.48227887630462646, \"max\": 0.48227887630462646}}}\u001b[0m\n",
      "\u001b[34m#metrics {\"StartTime\": 1725627903.0380073, \"EndTime\": 1725627903.038026, \"Dimensions\": {\"Algorithm\": \"Linear Learner\", \"Host\": \"algo-1\", \"Operation\": \"training\", \"epoch\": 1, \"model\": 13}, \"Metrics\": {\"train_absolute_loss_objective\": {\"sum\": 0.5239701175689697, \"count\": 1, \"min\": 0.5239701175689697, \"max\": 0.5239701175689697}}}\u001b[0m\n",
      "\u001b[34m#metrics {\"StartTime\": 1725627903.0383296, \"EndTime\": 1725627903.038349, \"Dimensions\": {\"Algorithm\": \"Linear Learner\", \"Host\": \"algo-1\", \"Operation\": \"training\", \"epoch\": 1, \"model\": 14}, \"Metrics\": {\"train_absolute_loss_objective\": {\"sum\": 0.48092408657073976, \"count\": 1, \"min\": 0.48092408657073976, \"max\": 0.48092408657073976}}}\u001b[0m\n",
      "\u001b[34m#metrics {\"StartTime\": 1725627903.0386326, \"EndTime\": 1725627903.0386503, \"Dimensions\": {\"Algorithm\": \"Linear Learner\", \"Host\": \"algo-1\", \"Operation\": \"training\", \"epoch\": 1, \"model\": 15}, \"Metrics\": {\"train_absolute_loss_objective\": {\"sum\": 0.5289123725891113, \"count\": 1, \"min\": 0.5289123725891113, \"max\": 0.5289123725891113}}}\u001b[0m\n",
      "\u001b[34m#metrics {\"StartTime\": 1725627903.038934, \"EndTime\": 1725627903.0389547, \"Dimensions\": {\"Algorithm\": \"Linear Learner\", \"Host\": \"algo-1\", \"Operation\": \"training\", \"epoch\": 1, \"model\": 16}, \"Metrics\": {\"train_absolute_loss_objective\": {\"sum\": 0.835220308303833, \"count\": 1, \"min\": 0.835220308303833, \"max\": 0.835220308303833}}}\u001b[0m\n",
      "\u001b[34m#metrics {\"StartTime\": 1725627903.039233, \"EndTime\": 1725627903.039251, \"Dimensions\": {\"Algorithm\": \"Linear Learner\", \"Host\": \"algo-1\", \"Operation\": \"training\", \"epoch\": 1, \"model\": 17}, \"Metrics\": {\"train_absolute_loss_objective\": {\"sum\": 0.8858969593048096, \"count\": 1, \"min\": 0.8858969593048096, \"max\": 0.8858969593048096}}}\u001b[0m\n",
      "\u001b[34m#metrics {\"StartTime\": 1725627903.039531, \"EndTime\": 1725627903.0395489, \"Dimensions\": {\"Algorithm\": \"Linear Learner\", \"Host\": \"algo-1\", \"Operation\": \"training\", \"epoch\": 1, \"model\": 18}, \"Metrics\": {\"train_absolute_loss_objective\": {\"sum\": 0.8619781017303467, \"count\": 1, \"min\": 0.8619781017303467, \"max\": 0.8619781017303467}}}\u001b[0m\n",
      "\u001b[34m#metrics {\"StartTime\": 1725627903.0398436, \"EndTime\": 1725627903.0398638, \"Dimensions\": {\"Algorithm\": \"Linear Learner\", \"Host\": \"algo-1\", \"Operation\": \"training\", \"epoch\": 1, \"model\": 19}, \"Metrics\": {\"train_absolute_loss_objective\": {\"sum\": 0.859306640625, \"count\": 1, \"min\": 0.859306640625, \"max\": 0.859306640625}}}\u001b[0m\n",
      "\u001b[34m#metrics {\"StartTime\": 1725627903.0401604, \"EndTime\": 1725627903.0401814, \"Dimensions\": {\"Algorithm\": \"Linear Learner\", \"Host\": \"algo-1\", \"Operation\": \"training\", \"epoch\": 1, \"model\": 20}, \"Metrics\": {\"train_absolute_loss_objective\": {\"sum\": 0.580424222946167, \"count\": 1, \"min\": 0.580424222946167, \"max\": 0.580424222946167}}}\u001b[0m\n",
      "\u001b[34m#metrics {\"StartTime\": 1725627903.0404747, \"EndTime\": 1725627903.040494, \"Dimensions\": {\"Algorithm\": \"Linear Learner\", \"Host\": \"algo-1\", \"Operation\": \"training\", \"epoch\": 1, \"model\": 21}, \"Metrics\": {\"train_absolute_loss_objective\": {\"sum\": 0.5452569150924682, \"count\": 1, \"min\": 0.5452569150924682, \"max\": 0.5452569150924682}}}\u001b[0m\n",
      "\u001b[34m#metrics {\"StartTime\": 1725627903.0407972, \"EndTime\": 1725627903.0408182, \"Dimensions\": {\"Algorithm\": \"Linear Learner\", \"Host\": \"algo-1\", \"Operation\": \"training\", \"epoch\": 1, \"model\": 22}, \"Metrics\": {\"train_absolute_loss_objective\": {\"sum\": 0.5430487823486329, \"count\": 1, \"min\": 0.5430487823486329, \"max\": 0.5430487823486329}}}\u001b[0m\n",
      "\u001b[34m#metrics {\"StartTime\": 1725627903.0411327, \"EndTime\": 1725627903.0411515, \"Dimensions\": {\"Algorithm\": \"Linear Learner\", \"Host\": \"algo-1\", \"Operation\": \"training\", \"epoch\": 1, \"model\": 23}, \"Metrics\": {\"train_absolute_loss_objective\": {\"sum\": 0.5515498542785644, \"count\": 1, \"min\": 0.5515498542785644, \"max\": 0.5515498542785644}}}\u001b[0m\n",
      "\u001b[34m#metrics {\"StartTime\": 1725627903.041431, \"EndTime\": 1725627903.0414507, \"Dimensions\": {\"Algorithm\": \"Linear Learner\", \"Host\": \"algo-1\", \"Operation\": \"training\", \"epoch\": 1, \"model\": 24}, \"Metrics\": {\"train_absolute_loss_objective\": {\"sum\": 0.8743099975585937, \"count\": 1, \"min\": 0.8743099975585937, \"max\": 0.8743099975585937}}}\u001b[0m\n",
      "\u001b[34m#metrics {\"StartTime\": 1725627903.0416963, \"EndTime\": 1725627903.0417135, \"Dimensions\": {\"Algorithm\": \"Linear Learner\", \"Host\": \"algo-1\", \"Operation\": \"training\", \"epoch\": 1, \"model\": 25}, \"Metrics\": {\"train_absolute_loss_objective\": {\"sum\": 0.9042554569244384, \"count\": 1, \"min\": 0.9042554569244384, \"max\": 0.9042554569244384}}}\u001b[0m\n",
      "\u001b[34m#metrics {\"StartTime\": 1725627903.0420012, \"EndTime\": 1725627903.0420213, \"Dimensions\": {\"Algorithm\": \"Linear Learner\", \"Host\": \"algo-1\", \"Operation\": \"training\", \"epoch\": 1, \"model\": 26}, \"Metrics\": {\"train_absolute_loss_objective\": {\"sum\": 0.8933858108520508, \"count\": 1, \"min\": 0.8933858108520508, \"max\": 0.8933858108520508}}}\u001b[0m\n",
      "\u001b[34m#metrics {\"StartTime\": 1725627903.0420818, \"EndTime\": 1725627903.0420923, \"Dimensions\": {\"Algorithm\": \"Linear Learner\", \"Host\": \"algo-1\", \"Operation\": \"training\", \"epoch\": 1, \"model\": 27}, \"Metrics\": {\"train_absolute_loss_objective\": {\"sum\": 0.8908585739135743, \"count\": 1, \"min\": 0.8908585739135743, \"max\": 0.8908585739135743}}}\u001b[0m\n",
      "\u001b[34m#metrics {\"StartTime\": 1725627903.0421276, \"EndTime\": 1725627903.0421367, \"Dimensions\": {\"Algorithm\": \"Linear Learner\", \"Host\": \"algo-1\", \"Operation\": \"training\", \"epoch\": 1, \"model\": 28}, \"Metrics\": {\"train_absolute_loss_objective\": {\"sum\": 0.9951490020751953, \"count\": 1, \"min\": 0.9951490020751953, \"max\": 0.9951490020751953}}}\u001b[0m\n",
      "\u001b[34m#metrics {\"StartTime\": 1725627903.0421681, \"EndTime\": 1725627903.0421762, \"Dimensions\": {\"Algorithm\": \"Linear Learner\", \"Host\": \"algo-1\", \"Operation\": \"training\", \"epoch\": 1, \"model\": 29}, \"Metrics\": {\"train_absolute_loss_objective\": {\"sum\": 0.9949771022796631, \"count\": 1, \"min\": 0.9949771022796631, \"max\": 0.9949771022796631}}}\u001b[0m\n",
      "\u001b[34m#metrics {\"StartTime\": 1725627903.0422063, \"EndTime\": 1725627903.042214, \"Dimensions\": {\"Algorithm\": \"Linear Learner\", \"Host\": \"algo-1\", \"Operation\": \"training\", \"epoch\": 1, \"model\": 30}, \"Metrics\": {\"train_absolute_loss_objective\": {\"sum\": 0.9435440731048584, \"count\": 1, \"min\": 0.9435440731048584, \"max\": 0.9435440731048584}}}\u001b[0m\n",
      "\u001b[34m#metrics {\"StartTime\": 1725627903.0422432, \"EndTime\": 1725627903.0422506, \"Dimensions\": {\"Algorithm\": \"Linear Learner\", \"Host\": \"algo-1\", \"Operation\": \"training\", \"epoch\": 1, \"model\": 31}, \"Metrics\": {\"train_absolute_loss_objective\": {\"sum\": 0.9525620555877685, \"count\": 1, \"min\": 0.9525620555877685, \"max\": 0.9525620555877685}}}\u001b[0m\n",
      "\u001b[34m[09/06/2024 13:05:03 INFO 139967254308672] #quality_metric: host=algo-1, epoch=1, train absolute_loss_objective <loss>=0.8708377647399902\u001b[0m\n",
      "\u001b[34m[09/06/2024 13:05:03 INFO 139967254308672] #early_stopping_criteria_metric: host=algo-1, epoch=1, criteria=absolute_loss_objective, value=0.47373772621154786\u001b[0m\n",
      "\u001b[34m[09/06/2024 13:05:03 INFO 139967254308672] Epoch 1: Loss improved. Updating best model\u001b[0m\n",
      "\u001b[34m[09/06/2024 13:05:03 INFO 139967254308672] Saving model for epoch: 1\u001b[0m\n",
      "\u001b[34m[09/06/2024 13:05:03 INFO 139967254308672] Saved checkpoint to \"/tmp/tmpa7qmzrwg/mx-mod-0000.params\"\u001b[0m\n",
      "\u001b[34m[09/06/2024 13:05:03 INFO 139967254308672] #progress_metric: host=algo-1, completed 40.0 % of epochs\u001b[0m\n",
      "\u001b[34m#metrics {\"StartTime\": 1725627902.8981729, \"EndTime\": 1725627903.0572278, \"Dimensions\": {\"Algorithm\": \"Linear Learner\", \"Host\": \"algo-1\", \"Operation\": \"training\", \"epoch\": 1, \"Meta\": \"training_data_iter\"}, \"Metrics\": {\"Total Records Seen\": {\"sum\": 89.0, \"count\": 1, \"min\": 89, \"max\": 89}, \"Total Batches Seen\": {\"sum\": 19.0, \"count\": 1, \"min\": 19, \"max\": 19}, \"Max Records Seen Between Resets\": {\"sum\": 28.0, \"count\": 1, \"min\": 28, \"max\": 28}, \"Max Batches Seen Between Resets\": {\"sum\": 6.0, \"count\": 1, \"min\": 6, \"max\": 6}, \"Reset Count\": {\"sum\": 4.0, \"count\": 1, \"min\": 4, \"max\": 4}, \"Number of Records Since Last Reset\": {\"sum\": 28.0, \"count\": 1, \"min\": 28, \"max\": 28}, \"Number of Batches Since Last Reset\": {\"sum\": 6.0, \"count\": 1, \"min\": 6, \"max\": 6}}}\u001b[0m\n",
      "\u001b[34m[09/06/2024 13:05:03 INFO 139967254308672] #throughput_metric: host=algo-1, train throughput=175.50280797290955 records/second\u001b[0m\n",
      "\u001b[34m[2024-09-06 13:05:03.219] [tensorio] [info] epoch_stats={\"data_pipeline\": \"/opt/ml/input/data/train\", \"epoch\": 8, \"duration\": 161, \"num_examples\": 6, \"num_bytes\": 1344}\u001b[0m\n",
      "\u001b[34m#metrics {\"StartTime\": 1725627903.220251, \"EndTime\": 1725627903.2203712, \"Dimensions\": {\"Algorithm\": \"Linear Learner\", \"Host\": \"algo-1\", \"Operation\": \"training\", \"epoch\": 2, \"model\": 0}, \"Metrics\": {\"train_absolute_loss_objective\": {\"sum\": 0.849625539779663, \"count\": 1, \"min\": 0.849625539779663, \"max\": 0.849625539779663}}}\u001b[0m\n",
      "\u001b[34m#metrics {\"StartTime\": 1725627903.2204728, \"EndTime\": 1725627903.2206771, \"Dimensions\": {\"Algorithm\": \"Linear Learner\", \"Host\": \"algo-1\", \"Operation\": \"training\", \"epoch\": 2, \"model\": 1}, \"Metrics\": {\"train_absolute_loss_objective\": {\"sum\": 0.8693043804168701, \"count\": 1, \"min\": 0.8693043804168701, \"max\": 0.8693043804168701}}}\u001b[0m\n",
      "\u001b[34m#metrics {\"StartTime\": 1725627903.2207575, \"EndTime\": 1725627903.220934, \"Dimensions\": {\"Algorithm\": \"Linear Learner\", \"Host\": \"algo-1\", \"Operation\": \"training\", \"epoch\": 2, \"model\": 2}, \"Metrics\": {\"train_absolute_loss_objective\": {\"sum\": 0.8520152950286866, \"count\": 1, \"min\": 0.8520152950286866, \"max\": 0.8520152950286866}}}\u001b[0m\n",
      "\u001b[34m#metrics {\"StartTime\": 1725627903.2210083, \"EndTime\": 1725627903.2211797, \"Dimensions\": {\"Algorithm\": \"Linear Learner\", \"Host\": \"algo-1\", \"Operation\": \"training\", \"epoch\": 2, \"model\": 3}, \"Metrics\": {\"train_absolute_loss_objective\": {\"sum\": 0.8682962226867675, \"count\": 1, \"min\": 0.8682962226867675, \"max\": 0.8682962226867675}}}\u001b[0m\n",
      "\u001b[34m#metrics {\"StartTime\": 1725627903.2212532, \"EndTime\": 1725627903.221418, \"Dimensions\": {\"Algorithm\": \"Linear Learner\", \"Host\": \"algo-1\", \"Operation\": \"training\", \"epoch\": 2, \"model\": 4}, \"Metrics\": {\"train_absolute_loss_objective\": {\"sum\": 0.18716341733932496, \"count\": 1, \"min\": 0.18716341733932496, \"max\": 0.18716341733932496}}}\u001b[0m\n",
      "\u001b[34m#metrics {\"StartTime\": 1725627903.2214913, \"EndTime\": 1725627903.2216568, \"Dimensions\": {\"Algorithm\": \"Linear Learner\", \"Host\": \"algo-1\", \"Operation\": \"training\", \"epoch\": 2, \"model\": 5}, \"Metrics\": {\"train_absolute_loss_objective\": {\"sum\": 0.21096099615097047, \"count\": 1, \"min\": 0.21096099615097047, \"max\": 0.21096099615097047}}}\u001b[0m\n",
      "\u001b[34m#metrics {\"StartTime\": 1725627903.2217302, \"EndTime\": 1725627903.221893, \"Dimensions\": {\"Algorithm\": \"Linear Learner\", \"Host\": \"algo-1\", \"Operation\": \"training\", \"epoch\": 2, \"model\": 6}, \"Metrics\": {\"train_absolute_loss_objective\": {\"sum\": 0.2488299059867859, \"count\": 1, \"min\": 0.2488299059867859, \"max\": 0.2488299059867859}}}\u001b[0m\n",
      "\u001b[34m#metrics {\"StartTime\": 1725627903.2219627, \"EndTime\": 1725627903.2221131, \"Dimensions\": {\"Algorithm\": \"Linear Learner\", \"Host\": \"algo-1\", \"Operation\": \"training\", \"epoch\": 2, \"model\": 7}, \"Metrics\": {\"train_absolute_loss_objective\": {\"sum\": 0.19424572467803955, \"count\": 1, \"min\": 0.19424572467803955, \"max\": 0.19424572467803955}}}\u001b[0m\n",
      "\u001b[34m#metrics {\"StartTime\": 1725627903.222184, \"EndTime\": 1725627903.2223506, \"Dimensions\": {\"Algorithm\": \"Linear Learner\", \"Host\": \"algo-1\", \"Operation\": \"training\", \"epoch\": 2, \"model\": 8}, \"Metrics\": {\"train_absolute_loss_objective\": {\"sum\": 0.9050162029266358, \"count\": 1, \"min\": 0.9050162029266358, \"max\": 0.9050162029266358}}}\u001b[0m\n",
      "\u001b[34m#metrics {\"StartTime\": 1725627903.2224205, \"EndTime\": 1725627903.22258, \"Dimensions\": {\"Algorithm\": \"Linear Learner\", \"Host\": \"algo-1\", \"Operation\": \"training\", \"epoch\": 2, \"model\": 9}, \"Metrics\": {\"train_absolute_loss_objective\": {\"sum\": 0.8376591491699219, \"count\": 1, \"min\": 0.8376591491699219, \"max\": 0.8376591491699219}}}\u001b[0m\n",
      "\u001b[34m#metrics {\"StartTime\": 1725627903.2226706, \"EndTime\": 1725627903.2227006, \"Dimensions\": {\"Algorithm\": \"Linear Learner\", \"Host\": \"algo-1\", \"Operation\": \"training\", \"epoch\": 2, \"model\": 10}, \"Metrics\": {\"train_absolute_loss_objective\": {\"sum\": 0.8443458461761475, \"count\": 1, \"min\": 0.8443458461761475, \"max\": 0.8443458461761475}}}\u001b[0m\n",
      "\u001b[34m#metrics {\"StartTime\": 1725627903.2230833, \"EndTime\": 1725627903.223133, \"Dimensions\": {\"Algorithm\": \"Linear Learner\", \"Host\": \"algo-1\", \"Operation\": \"training\", \"epoch\": 2, \"model\": 11}, \"Metrics\": {\"train_absolute_loss_objective\": {\"sum\": 0.8296191024780274, \"count\": 1, \"min\": 0.8296191024780274, \"max\": 0.8296191024780274}}}\u001b[0m\n",
      "\u001b[34m#metrics {\"StartTime\": 1725627903.223215, \"EndTime\": 1725627903.2233922, \"Dimensions\": {\"Algorithm\": \"Linear Learner\", \"Host\": \"algo-1\", \"Operation\": \"training\", \"epoch\": 2, \"model\": 12}, \"Metrics\": {\"train_absolute_loss_objective\": {\"sum\": 0.2095974040031433, \"count\": 1, \"min\": 0.2095974040031433, \"max\": 0.2095974040031433}}}\u001b[0m\n",
      "\u001b[34m#metrics {\"StartTime\": 1725627903.223508, \"EndTime\": 1725627903.223753, \"Dimensions\": {\"Algorithm\": \"Linear Learner\", \"Host\": \"algo-1\", \"Operation\": \"training\", \"epoch\": 2, \"model\": 13}, \"Metrics\": {\"train_absolute_loss_objective\": {\"sum\": 0.22271076917648316, \"count\": 1, \"min\": 0.22271076917648316, \"max\": 0.22271076917648316}}}\u001b[0m\n",
      "\u001b[34m#metrics {\"StartTime\": 1725627903.2238262, \"EndTime\": 1725627903.223988, \"Dimensions\": {\"Algorithm\": \"Linear Learner\", \"Host\": \"algo-1\", \"Operation\": \"training\", \"epoch\": 2, \"model\": 14}, \"Metrics\": {\"train_absolute_loss_objective\": {\"sum\": 0.1867911100387573, \"count\": 1, \"min\": 0.1867911100387573, \"max\": 0.1867911100387573}}}\u001b[0m\n",
      "\u001b[34m#metrics {\"StartTime\": 1725627903.224042, \"EndTime\": 1725627903.2240527, \"Dimensions\": {\"Algorithm\": \"Linear Learner\", \"Host\": \"algo-1\", \"Operation\": \"training\", \"epoch\": 2, \"model\": 15}, \"Metrics\": {\"train_absolute_loss_objective\": {\"sum\": 0.2223181915283203, \"count\": 1, \"min\": 0.2223181915283203, \"max\": 0.2223181915283203}}}\u001b[0m\n",
      "\u001b[34m#metrics {\"StartTime\": 1725627903.2240834, \"EndTime\": 1725627903.224092, \"Dimensions\": {\"Algorithm\": \"Linear Learner\", \"Host\": \"algo-1\", \"Operation\": \"training\", \"epoch\": 2, \"model\": 16}, \"Metrics\": {\"train_absolute_loss_objective\": {\"sum\": 0.8143657493591309, \"count\": 1, \"min\": 0.8143657493591309, \"max\": 0.8143657493591309}}}\u001b[0m\n",
      "\u001b[34m#metrics {\"StartTime\": 1725627903.2241225, \"EndTime\": 1725627903.2241313, \"Dimensions\": {\"Algorithm\": \"Linear Learner\", \"Host\": \"algo-1\", \"Operation\": \"training\", \"epoch\": 2, \"model\": 17}, \"Metrics\": {\"train_absolute_loss_objective\": {\"sum\": 0.8647757625579834, \"count\": 1, \"min\": 0.8647757625579834, \"max\": 0.8647757625579834}}}\u001b[0m\n",
      "\u001b[34m#metrics {\"StartTime\": 1725627903.2244313, \"EndTime\": 1725627903.2244568, \"Dimensions\": {\"Algorithm\": \"Linear Learner\", \"Host\": \"algo-1\", \"Operation\": \"training\", \"epoch\": 2, \"model\": 18}, \"Metrics\": {\"train_absolute_loss_objective\": {\"sum\": 0.8410039138793945, \"count\": 1, \"min\": 0.8410039138793945, \"max\": 0.8410039138793945}}}\u001b[0m\n",
      "\u001b[34m#metrics {\"StartTime\": 1725627903.2245176, \"EndTime\": 1725627903.224681, \"Dimensions\": {\"Algorithm\": \"Linear Learner\", \"Host\": \"algo-1\", \"Operation\": \"training\", \"epoch\": 2, \"model\": 19}, \"Metrics\": {\"train_absolute_loss_objective\": {\"sum\": 0.8382956504821777, \"count\": 1, \"min\": 0.8382956504821777, \"max\": 0.8382956504821777}}}\u001b[0m\n",
      "\u001b[34m#metrics {\"StartTime\": 1725627903.2247376, \"EndTime\": 1725627903.2249048, \"Dimensions\": {\"Algorithm\": \"Linear Learner\", \"Host\": \"algo-1\", \"Operation\": \"training\", \"epoch\": 2, \"model\": 20}, \"Metrics\": {\"train_absolute_loss_objective\": {\"sum\": 0.3025396013259888, \"count\": 1, \"min\": 0.3025396013259888, \"max\": 0.3025396013259888}}}\u001b[0m\n",
      "\u001b[34m#metrics {\"StartTime\": 1725627903.2249591, \"EndTime\": 1725627903.225122, \"Dimensions\": {\"Algorithm\": \"Linear Learner\", \"Host\": \"algo-1\", \"Operation\": \"training\", \"epoch\": 2, \"model\": 21}, \"Metrics\": {\"train_absolute_loss_objective\": {\"sum\": 0.2622527647018433, \"count\": 1, \"min\": 0.2622527647018433, \"max\": 0.2622527647018433}}}\u001b[0m\n",
      "\u001b[34m#metrics {\"StartTime\": 1725627903.2251732, \"EndTime\": 1725627903.2251835, \"Dimensions\": {\"Algorithm\": \"Linear Learner\", \"Host\": \"algo-1\", \"Operation\": \"training\", \"epoch\": 2, \"model\": 22}, \"Metrics\": {\"train_absolute_loss_objective\": {\"sum\": 0.2818977689743042, \"count\": 1, \"min\": 0.2818977689743042, \"max\": 0.2818977689743042}}}\u001b[0m\n",
      "\u001b[34m#metrics {\"StartTime\": 1725627903.2253985, \"EndTime\": 1725627903.2254412, \"Dimensions\": {\"Algorithm\": \"Linear Learner\", \"Host\": \"algo-1\", \"Operation\": \"training\", \"epoch\": 2, \"model\": 23}, \"Metrics\": {\"train_absolute_loss_objective\": {\"sum\": 0.3199241876602173, \"count\": 1, \"min\": 0.3199241876602173, \"max\": 0.3199241876602173}}}\u001b[0m\n",
      "\u001b[34m#metrics {\"StartTime\": 1725627903.2255652, \"EndTime\": 1725627903.2257214, \"Dimensions\": {\"Algorithm\": \"Linear Learner\", \"Host\": \"algo-1\", \"Operation\": \"training\", \"epoch\": 2, \"model\": 24}, \"Metrics\": {\"train_absolute_loss_objective\": {\"sum\": 0.8905077743530273, \"count\": 1, \"min\": 0.8905077743530273, \"max\": 0.8905077743530273}}}\u001b[0m\n",
      "\u001b[34m#metrics {\"StartTime\": 1725627903.2257774, \"EndTime\": 1725627903.2259579, \"Dimensions\": {\"Algorithm\": \"Linear Learner\", \"Host\": \"algo-1\", \"Operation\": \"training\", \"epoch\": 2, \"model\": 25}, \"Metrics\": {\"train_absolute_loss_objective\": {\"sum\": 0.8882063961029053, \"count\": 1, \"min\": 0.8882063961029053, \"max\": 0.8882063961029053}}}\u001b[0m\n",
      "\u001b[34m#metrics {\"StartTime\": 1725627903.226019, \"EndTime\": 1725627903.2261841, \"Dimensions\": {\"Algorithm\": \"Linear Learner\", \"Host\": \"algo-1\", \"Operation\": \"training\", \"epoch\": 2, \"model\": 26}, \"Metrics\": {\"train_absolute_loss_objective\": {\"sum\": 0.8857404041290283, \"count\": 1, \"min\": 0.8857404041290283, \"max\": 0.8857404041290283}}}\u001b[0m\n",
      "\u001b[34m#metrics {\"StartTime\": 1725627903.2262397, \"EndTime\": 1725627903.2262697, \"Dimensions\": {\"Algorithm\": \"Linear Learner\", \"Host\": \"algo-1\", \"Operation\": \"training\", \"epoch\": 2, \"model\": 27}, \"Metrics\": {\"train_absolute_loss_objective\": {\"sum\": 0.893760347366333, \"count\": 1, \"min\": 0.893760347366333, \"max\": 0.893760347366333}}}\u001b[0m\n",
      "\u001b[34m#metrics {\"StartTime\": 1725627903.2264066, \"EndTime\": 1725627903.226573, \"Dimensions\": {\"Algorithm\": \"Linear Learner\", \"Host\": \"algo-1\", \"Operation\": \"training\", \"epoch\": 2, \"model\": 28}, \"Metrics\": {\"train_absolute_loss_objective\": {\"sum\": 1.1601535606384277, \"count\": 1, \"min\": 1.1601535606384277, \"max\": 1.1601535606384277}}}\u001b[0m\n",
      "\u001b[34m#metrics {\"StartTime\": 1725627903.226628, \"EndTime\": 1725627903.226788, \"Dimensions\": {\"Algorithm\": \"Linear Learner\", \"Host\": \"algo-1\", \"Operation\": \"training\", \"epoch\": 2, \"model\": 29}, \"Metrics\": {\"train_absolute_loss_objective\": {\"sum\": 1.1652897453308106, \"count\": 1, \"min\": 1.1652897453308106, \"max\": 1.1652897453308106}}}\u001b[0m\n",
      "\u001b[34m#metrics {\"StartTime\": 1725627903.2268486, \"EndTime\": 1725627903.226879, \"Dimensions\": {\"Algorithm\": \"Linear Learner\", \"Host\": \"algo-1\", \"Operation\": \"training\", \"epoch\": 2, \"model\": 30}, \"Metrics\": {\"train_absolute_loss_objective\": {\"sum\": 0.9995493507385254, \"count\": 1, \"min\": 0.9995493507385254, \"max\": 0.9995493507385254}}}\u001b[0m\n",
      "\u001b[34m#metrics {\"StartTime\": 1725627903.2270207, \"EndTime\": 1725627903.2272246, \"Dimensions\": {\"Algorithm\": \"Linear Learner\", \"Host\": \"algo-1\", \"Operation\": \"training\", \"epoch\": 2, \"model\": 31}, \"Metrics\": {\"train_absolute_loss_objective\": {\"sum\": 0.9888161468505859, \"count\": 1, \"min\": 0.9888161468505859, \"max\": 0.9888161468505859}}}\u001b[0m\n",
      "\u001b[34m[09/06/2024 13:05:03 INFO 139967254308672] #quality_metric: host=algo-1, epoch=2, train absolute_loss_objective <loss>=0.849625539779663\u001b[0m\n",
      "\u001b[34m[09/06/2024 13:05:03 INFO 139967254308672] #early_stopping_criteria_metric: host=algo-1, epoch=2, criteria=absolute_loss_objective, value=0.1867911100387573\u001b[0m\n",
      "\u001b[34m[09/06/2024 13:05:03 INFO 139967254308672] Epoch 2: Loss improved. Updating best model\u001b[0m\n",
      "\u001b[34m[09/06/2024 13:05:03 INFO 139967254308672] Saving model for epoch: 2\u001b[0m\n",
      "\u001b[34m[09/06/2024 13:05:03 INFO 139967254308672] Saved checkpoint to \"/tmp/tmpoagbkgvy/mx-mod-0000.params\"\u001b[0m\n",
      "\u001b[34m[09/06/2024 13:05:03 INFO 139967254308672] #progress_metric: host=algo-1, completed 60.0 % of epochs\u001b[0m\n",
      "\u001b[34m#metrics {\"StartTime\": 1725627903.0580943, \"EndTime\": 1725627903.2513027, \"Dimensions\": {\"Algorithm\": \"Linear Learner\", \"Host\": \"algo-1\", \"Operation\": \"training\", \"epoch\": 2, \"Meta\": \"training_data_iter\"}, \"Metrics\": {\"Total Records Seen\": {\"sum\": 117.0, \"count\": 1, \"min\": 117, \"max\": 117}, \"Total Batches Seen\": {\"sum\": 25.0, \"count\": 1, \"min\": 25, \"max\": 25}, \"Max Records Seen Between Resets\": {\"sum\": 28.0, \"count\": 1, \"min\": 28, \"max\": 28}, \"Max Batches Seen Between Resets\": {\"sum\": 6.0, \"count\": 1, \"min\": 6, \"max\": 6}, \"Reset Count\": {\"sum\": 5.0, \"count\": 1, \"min\": 5, \"max\": 5}, \"Number of Records Since Last Reset\": {\"sum\": 28.0, \"count\": 1, \"min\": 28, \"max\": 28}, \"Number of Batches Since Last Reset\": {\"sum\": 6.0, \"count\": 1, \"min\": 6, \"max\": 6}}}\u001b[0m\n",
      "\u001b[34m[09/06/2024 13:05:03 INFO 139967254308672] #throughput_metric: host=algo-1, train throughput=144.6350910985273 records/second\u001b[0m\n",
      "\u001b[34m[2024-09-06 13:05:03.387] [tensorio] [info] epoch_stats={\"data_pipeline\": \"/opt/ml/input/data/train\", \"epoch\": 10, \"duration\": 135, \"num_examples\": 6, \"num_bytes\": 1344}\u001b[0m\n",
      "\u001b[34m#metrics {\"StartTime\": 1725627903.3883448, \"EndTime\": 1725627903.3884478, \"Dimensions\": {\"Algorithm\": \"Linear Learner\", \"Host\": \"algo-1\", \"Operation\": \"training\", \"epoch\": 3, \"model\": 0}, \"Metrics\": {\"train_absolute_loss_objective\": {\"sum\": 0.8289405822753906, \"count\": 1, \"min\": 0.8289405822753906, \"max\": 0.8289405822753906}}}\u001b[0m\n",
      "\u001b[34m#metrics {\"StartTime\": 1725627903.38855, \"EndTime\": 1725627903.3888242, \"Dimensions\": {\"Algorithm\": \"Linear Learner\", \"Host\": \"algo-1\", \"Operation\": \"training\", \"epoch\": 3, \"model\": 1}, \"Metrics\": {\"train_absolute_loss_objective\": {\"sum\": 0.8484105300903321, \"count\": 1, \"min\": 0.8484105300903321, \"max\": 0.8484105300903321}}}\u001b[0m\n",
      "\u001b[34m#metrics {\"StartTime\": 1725627903.3888996, \"EndTime\": 1725627903.3891182, \"Dimensions\": {\"Algorithm\": \"Linear Learner\", \"Host\": \"algo-1\", \"Operation\": \"training\", \"epoch\": 3, \"model\": 2}, \"Metrics\": {\"train_absolute_loss_objective\": {\"sum\": 0.8313303375244141, \"count\": 1, \"min\": 0.8313303375244141, \"max\": 0.8313303375244141}}}\u001b[0m\n",
      "\u001b[34m#metrics {\"StartTime\": 1725627903.3891852, \"EndTime\": 1725627903.3893967, \"Dimensions\": {\"Algorithm\": \"Linear Learner\", \"Host\": \"algo-1\", \"Operation\": \"training\", \"epoch\": 3, \"model\": 3}, \"Metrics\": {\"train_absolute_loss_objective\": {\"sum\": 0.8474023246765137, \"count\": 1, \"min\": 0.8474023246765137, \"max\": 0.8474023246765137}}}\u001b[0m\n",
      "\u001b[34m#metrics {\"StartTime\": 1725627903.389462, \"EndTime\": 1725627903.3894942, \"Dimensions\": {\"Algorithm\": \"Linear Learner\", \"Host\": \"algo-1\", \"Operation\": \"training\", \"epoch\": 3, \"model\": 4}, \"Metrics\": {\"train_absolute_loss_objective\": {\"sum\": 0.3096851563453674, \"count\": 1, \"min\": 0.3096851563453674, \"max\": 0.3096851563453674}}}\u001b[0m\n",
      "\u001b[34m#metrics {\"StartTime\": 1725627903.3896124, \"EndTime\": 1725627903.3897514, \"Dimensions\": {\"Algorithm\": \"Linear Learner\", \"Host\": \"algo-1\", \"Operation\": \"training\", \"epoch\": 3, \"model\": 5}, \"Metrics\": {\"train_absolute_loss_objective\": {\"sum\": 0.25566562652587893, \"count\": 1, \"min\": 0.25566562652587893, \"max\": 0.25566562652587893}}}\u001b[0m\n",
      "\u001b[34m#metrics {\"StartTime\": 1725627903.3898132, \"EndTime\": 1725627903.3898447, \"Dimensions\": {\"Algorithm\": \"Linear Learner\", \"Host\": \"algo-1\", \"Operation\": \"training\", \"epoch\": 3, \"model\": 6}, \"Metrics\": {\"train_absolute_loss_objective\": {\"sum\": 0.3079905152320862, \"count\": 1, \"min\": 0.3079905152320862, \"max\": 0.3079905152320862}}}\u001b[0m\n",
      "\u001b[34m#metrics {\"StartTime\": 1725627903.3899515, \"EndTime\": 1725627903.3900862, \"Dimensions\": {\"Algorithm\": \"Linear Learner\", \"Host\": \"algo-1\", \"Operation\": \"training\", \"epoch\": 3, \"model\": 7}, \"Metrics\": {\"train_absolute_loss_objective\": {\"sum\": 0.32401065349578856, \"count\": 1, \"min\": 0.32401065349578856, \"max\": 0.32401065349578856}}}\u001b[0m\n",
      "\u001b[34m#metrics {\"StartTime\": 1725627903.390147, \"EndTime\": 1725627903.390179, \"Dimensions\": {\"Algorithm\": \"Linear Learner\", \"Host\": \"algo-1\", \"Operation\": \"training\", \"epoch\": 3, \"model\": 8}, \"Metrics\": {\"train_absolute_loss_objective\": {\"sum\": 0.8843323802947998, \"count\": 1, \"min\": 0.8843323802947998, \"max\": 0.8843323802947998}}}\u001b[0m\n",
      "\u001b[34m#metrics {\"StartTime\": 1725627903.3902843, \"EndTime\": 1725627903.3904338, \"Dimensions\": {\"Algorithm\": \"Linear Learner\", \"Host\": \"algo-1\", \"Operation\": \"training\", \"epoch\": 3, \"model\": 9}, \"Metrics\": {\"train_absolute_loss_objective\": {\"sum\": 0.8167691040039062, \"count\": 1, \"min\": 0.8167691040039062, \"max\": 0.8167691040039062}}}\u001b[0m\n",
      "\u001b[34m#metrics {\"StartTime\": 1725627903.390493, \"EndTime\": 1725627903.390648, \"Dimensions\": {\"Algorithm\": \"Linear Learner\", \"Host\": \"algo-1\", \"Operation\": \"training\", \"epoch\": 3, \"model\": 10}, \"Metrics\": {\"train_absolute_loss_objective\": {\"sum\": 0.8236644554138184, \"count\": 1, \"min\": 0.8236644554138184, \"max\": 0.8236644554138184}}}\u001b[0m\n",
      "\u001b[34m#metrics {\"StartTime\": 1725627903.3907084, \"EndTime\": 1725627903.3908749, \"Dimensions\": {\"Algorithm\": \"Linear Learner\", \"Host\": \"algo-1\", \"Operation\": \"training\", \"epoch\": 3, \"model\": 11}, \"Metrics\": {\"train_absolute_loss_objective\": {\"sum\": 0.8087294006347656, \"count\": 1, \"min\": 0.8087294006347656, \"max\": 0.8087294006347656}}}\u001b[0m\n",
      "\u001b[34m#metrics {\"StartTime\": 1725627903.3909335, \"EndTime\": 1725627903.3910894, \"Dimensions\": {\"Algorithm\": \"Linear Learner\", \"Host\": \"algo-1\", \"Operation\": \"training\", \"epoch\": 3, \"model\": 12}, \"Metrics\": {\"train_absolute_loss_objective\": {\"sum\": 0.2517591142654419, \"count\": 1, \"min\": 0.2517591142654419, \"max\": 0.2517591142654419}}}\u001b[0m\n",
      "\u001b[34m#metrics {\"StartTime\": 1725627903.3911424, \"EndTime\": 1725627903.3913023, \"Dimensions\": {\"Algorithm\": \"Linear Learner\", \"Host\": \"algo-1\", \"Operation\": \"training\", \"epoch\": 3, \"model\": 13}, \"Metrics\": {\"train_absolute_loss_objective\": {\"sum\": 0.3356362462043762, \"count\": 1, \"min\": 0.3356362462043762, \"max\": 0.3356362462043762}}}\u001b[0m\n",
      "\u001b[34m#metrics {\"StartTime\": 1725627903.3913584, \"EndTime\": 1725627903.3915231, \"Dimensions\": {\"Algorithm\": \"Linear Learner\", \"Host\": \"algo-1\", \"Operation\": \"training\", \"epoch\": 3, \"model\": 14}, \"Metrics\": {\"train_absolute_loss_objective\": {\"sum\": 0.3025065469741821, \"count\": 1, \"min\": 0.3025065469741821, \"max\": 0.3025065469741821}}}\u001b[0m\n",
      "\u001b[34m#metrics {\"StartTime\": 1725627903.3915823, \"EndTime\": 1725627903.3917491, \"Dimensions\": {\"Algorithm\": \"Linear Learner\", \"Host\": \"algo-1\", \"Operation\": \"training\", \"epoch\": 3, \"model\": 15}, \"Metrics\": {\"train_absolute_loss_objective\": {\"sum\": 0.3332593059539795, \"count\": 1, \"min\": 0.3332593059539795, \"max\": 0.3332593059539795}}}\u001b[0m\n",
      "\u001b[34m#metrics {\"StartTime\": 1725627903.3918092, \"EndTime\": 1725627903.3919868, \"Dimensions\": {\"Algorithm\": \"Linear Learner\", \"Host\": \"algo-1\", \"Operation\": \"training\", \"epoch\": 3, \"model\": 16}, \"Metrics\": {\"train_absolute_loss_objective\": {\"sum\": 0.7942097759246827, \"count\": 1, \"min\": 0.7942097759246827, \"max\": 0.7942097759246827}}}\u001b[0m\n",
      "\u001b[34m#metrics {\"StartTime\": 1725627903.3920493, \"EndTime\": 1725627903.392061, \"Dimensions\": {\"Algorithm\": \"Linear Learner\", \"Host\": \"algo-1\", \"Operation\": \"training\", \"epoch\": 3, \"model\": 17}, \"Metrics\": {\"train_absolute_loss_objective\": {\"sum\": 0.8441713714599609, \"count\": 1, \"min\": 0.8441713714599609, \"max\": 0.8441713714599609}}}\u001b[0m\n",
      "\u001b[34m#metrics {\"StartTime\": 1725627903.3920941, \"EndTime\": 1725627903.3922808, \"Dimensions\": {\"Algorithm\": \"Linear Learner\", \"Host\": \"algo-1\", \"Operation\": \"training\", \"epoch\": 3, \"model\": 18}, \"Metrics\": {\"train_absolute_loss_objective\": {\"sum\": 0.8207146072387695, \"count\": 1, \"min\": 0.8207146072387695, \"max\": 0.8207146072387695}}}\u001b[0m\n",
      "\u001b[34m#metrics {\"StartTime\": 1725627903.392338, \"EndTime\": 1725627903.3925028, \"Dimensions\": {\"Algorithm\": \"Linear Learner\", \"Host\": \"algo-1\", \"Operation\": \"training\", \"epoch\": 3, \"model\": 19}, \"Metrics\": {\"train_absolute_loss_objective\": {\"sum\": 0.81781494140625, \"count\": 1, \"min\": 0.81781494140625, \"max\": 0.81781494140625}}}\u001b[0m\n",
      "\u001b[34m#metrics {\"StartTime\": 1725627903.3925598, \"EndTime\": 1725627903.392704, \"Dimensions\": {\"Algorithm\": \"Linear Learner\", \"Host\": \"algo-1\", \"Operation\": \"training\", \"epoch\": 3, \"model\": 20}, \"Metrics\": {\"train_absolute_loss_objective\": {\"sum\": 0.2934429740905762, \"count\": 1, \"min\": 0.2934429740905762, \"max\": 0.2934429740905762}}}\u001b[0m\n",
      "\u001b[34m#metrics {\"StartTime\": 1725627903.3927581, \"EndTime\": 1725627903.3929105, \"Dimensions\": {\"Algorithm\": \"Linear Learner\", \"Host\": \"algo-1\", \"Operation\": \"training\", \"epoch\": 3, \"model\": 21}, \"Metrics\": {\"train_absolute_loss_objective\": {\"sum\": 0.273292818069458, \"count\": 1, \"min\": 0.273292818069458, \"max\": 0.273292818069458}}}\u001b[0m\n",
      "\u001b[34m#metrics {\"StartTime\": 1725627903.392968, \"EndTime\": 1725627903.3929791, \"Dimensions\": {\"Algorithm\": \"Linear Learner\", \"Host\": \"algo-1\", \"Operation\": \"training\", \"epoch\": 3, \"model\": 22}, \"Metrics\": {\"train_absolute_loss_objective\": {\"sum\": 0.2532034420967102, \"count\": 1, \"min\": 0.2532034420967102, \"max\": 0.2532034420967102}}}\u001b[0m\n",
      "\u001b[34m#metrics {\"StartTime\": 1725627903.393175, \"EndTime\": 1725627903.393329, \"Dimensions\": {\"Algorithm\": \"Linear Learner\", \"Host\": \"algo-1\", \"Operation\": \"training\", \"epoch\": 3, \"model\": 23}, \"Metrics\": {\"train_absolute_loss_objective\": {\"sum\": 0.37065614223480225, \"count\": 1, \"min\": 0.37065614223480225, \"max\": 0.37065614223480225}}}\u001b[0m\n",
      "\u001b[34m#metrics {\"StartTime\": 1725627903.3933873, \"EndTime\": 1725627903.3935194, \"Dimensions\": {\"Algorithm\": \"Linear Learner\", \"Host\": \"algo-1\", \"Operation\": \"training\", \"epoch\": 3, \"model\": 24}, \"Metrics\": {\"train_absolute_loss_objective\": {\"sum\": 0.900709867477417, \"count\": 1, \"min\": 0.900709867477417, \"max\": 0.900709867477417}}}\u001b[0m\n",
      "\u001b[34m#metrics {\"StartTime\": 1725627903.3935745, \"EndTime\": 1725627903.393754, \"Dimensions\": {\"Algorithm\": \"Linear Learner\", \"Host\": \"algo-1\", \"Operation\": \"training\", \"epoch\": 3, \"model\": 25}, \"Metrics\": {\"train_absolute_loss_objective\": {\"sum\": 0.882034559249878, \"count\": 1, \"min\": 0.882034559249878, \"max\": 0.882034559249878}}}\u001b[0m\n",
      "\u001b[34m#metrics {\"StartTime\": 1725627903.393815, \"EndTime\": 1725627903.3939645, \"Dimensions\": {\"Algorithm\": \"Linear Learner\", \"Host\": \"algo-1\", \"Operation\": \"training\", \"epoch\": 3, \"model\": 26}, \"Metrics\": {\"train_absolute_loss_objective\": {\"sum\": 0.8888728618621826, \"count\": 1, \"min\": 0.8888728618621826, \"max\": 0.8888728618621826}}}\u001b[0m\n",
      "\u001b[34m#metrics {\"StartTime\": 1725627903.3940227, \"EndTime\": 1725627903.3941891, \"Dimensions\": {\"Algorithm\": \"Linear Learner\", \"Host\": \"algo-1\", \"Operation\": \"training\", \"epoch\": 3, \"model\": 27}, \"Metrics\": {\"train_absolute_loss_objective\": {\"sum\": 0.8954093170166015, \"count\": 1, \"min\": 0.8954093170166015, \"max\": 0.8954093170166015}}}\u001b[0m\n",
      "\u001b[34m#metrics {\"StartTime\": 1725627903.394249, \"EndTime\": 1725627903.3944645, \"Dimensions\": {\"Algorithm\": \"Linear Learner\", \"Host\": \"algo-1\", \"Operation\": \"training\", \"epoch\": 3, \"model\": 28}, \"Metrics\": {\"train_absolute_loss_objective\": {\"sum\": 0.8976555061340332, \"count\": 1, \"min\": 0.8976555061340332, \"max\": 0.8976555061340332}}}\u001b[0m\n",
      "\u001b[34m#metrics {\"StartTime\": 1725627903.394529, \"EndTime\": 1725627903.3946836, \"Dimensions\": {\"Algorithm\": \"Linear Learner\", \"Host\": \"algo-1\", \"Operation\": \"training\", \"epoch\": 3, \"model\": 29}, \"Metrics\": {\"train_absolute_loss_objective\": {\"sum\": 0.8987040138244629, \"count\": 1, \"min\": 0.8987040138244629, \"max\": 0.8987040138244629}}}\u001b[0m\n",
      "\u001b[34m#metrics {\"StartTime\": 1725627903.3947384, \"EndTime\": 1725627903.3948932, \"Dimensions\": {\"Algorithm\": \"Linear Learner\", \"Host\": \"algo-1\", \"Operation\": \"training\", \"epoch\": 3, \"model\": 30}, \"Metrics\": {\"train_absolute_loss_objective\": {\"sum\": 0.9056389617919922, \"count\": 1, \"min\": 0.9056389617919922, \"max\": 0.9056389617919922}}}\u001b[0m\n",
      "\u001b[34m#metrics {\"StartTime\": 1725627903.3949535, \"EndTime\": 1725627903.3951087, \"Dimensions\": {\"Algorithm\": \"Linear Learner\", \"Host\": \"algo-1\", \"Operation\": \"training\", \"epoch\": 3, \"model\": 31}, \"Metrics\": {\"train_absolute_loss_objective\": {\"sum\": 0.9148726654052735, \"count\": 1, \"min\": 0.9148726654052735, \"max\": 0.9148726654052735}}}\u001b[0m\n",
      "\u001b[34m[09/06/2024 13:05:03 INFO 139967254308672] #quality_metric: host=algo-1, epoch=3, train absolute_loss_objective <loss>=0.8289405822753906\u001b[0m\n",
      "\u001b[34m[09/06/2024 13:05:03 INFO 139967254308672] #early_stopping_criteria_metric: host=algo-1, epoch=3, criteria=absolute_loss_objective, value=0.2517591142654419\u001b[0m\n",
      "\u001b[34m[09/06/2024 13:05:03 INFO 139967254308672] Saving model for epoch: 3\u001b[0m\n",
      "\u001b[34m[09/06/2024 13:05:03 INFO 139967254308672] Saved checkpoint to \"/tmp/tmphtv_xn_j/mx-mod-0000.params\"\u001b[0m\n",
      "\u001b[34m[09/06/2024 13:05:03 INFO 139967254308672] #progress_metric: host=algo-1, completed 80.0 % of epochs\u001b[0m\n",
      "\u001b[34m#metrics {\"StartTime\": 1725627903.2520652, \"EndTime\": 1725627903.4077916, \"Dimensions\": {\"Algorithm\": \"Linear Learner\", \"Host\": \"algo-1\", \"Operation\": \"training\", \"epoch\": 3, \"Meta\": \"training_data_iter\"}, \"Metrics\": {\"Total Records Seen\": {\"sum\": 145.0, \"count\": 1, \"min\": 145, \"max\": 145}, \"Total Batches Seen\": {\"sum\": 31.0, \"count\": 1, \"min\": 31, \"max\": 31}, \"Max Records Seen Between Resets\": {\"sum\": 28.0, \"count\": 1, \"min\": 28, \"max\": 28}, \"Max Batches Seen Between Resets\": {\"sum\": 6.0, \"count\": 1, \"min\": 6, \"max\": 6}, \"Reset Count\": {\"sum\": 6.0, \"count\": 1, \"min\": 6, \"max\": 6}, \"Number of Records Since Last Reset\": {\"sum\": 28.0, \"count\": 1, \"min\": 28, \"max\": 28}, \"Number of Batches Since Last Reset\": {\"sum\": 6.0, \"count\": 1, \"min\": 6, \"max\": 6}}}\u001b[0m\n",
      "\u001b[34m[09/06/2024 13:05:03 INFO 139967254308672] #throughput_metric: host=algo-1, train throughput=179.36339102850954 records/second\u001b[0m\n",
      "\u001b[34m[2024-09-06 13:05:03.542] [tensorio] [info] epoch_stats={\"data_pipeline\": \"/opt/ml/input/data/train\", \"epoch\": 12, \"duration\": 133, \"num_examples\": 6, \"num_bytes\": 1344}\u001b[0m\n",
      "\u001b[34m#metrics {\"StartTime\": 1725627903.5425088, \"EndTime\": 1725627903.5426211, \"Dimensions\": {\"Algorithm\": \"Linear Learner\", \"Host\": \"algo-1\", \"Operation\": \"training\", \"epoch\": 4, \"model\": 0}, \"Metrics\": {\"train_absolute_loss_objective\": {\"sum\": 0.8083945465087891, \"count\": 1, \"min\": 0.8083945465087891, \"max\": 0.8083945465087891}}}\u001b[0m\n",
      "\u001b[34m#metrics {\"StartTime\": 1725627903.5427139, \"EndTime\": 1725627903.542728, \"Dimensions\": {\"Algorithm\": \"Linear Learner\", \"Host\": \"algo-1\", \"Operation\": \"training\", \"epoch\": 4, \"model\": 1}, \"Metrics\": {\"train_absolute_loss_objective\": {\"sum\": 0.8276038360595703, \"count\": 1, \"min\": 0.8276038360595703, \"max\": 0.8276038360595703}}}\u001b[0m\n",
      "\u001b[34m#metrics {\"StartTime\": 1725627903.5428329, \"EndTime\": 1725627903.542863, \"Dimensions\": {\"Algorithm\": \"Linear Learner\", \"Host\": \"algo-1\", \"Operation\": \"training\", \"epoch\": 4, \"model\": 2}, \"Metrics\": {\"train_absolute_loss_objective\": {\"sum\": 0.810784330368042, \"count\": 1, \"min\": 0.810784330368042, \"max\": 0.810784330368042}}}\u001b[0m\n",
      "\u001b[34m#metrics {\"StartTime\": 1725627903.5431092, \"EndTime\": 1725627903.5431943, \"Dimensions\": {\"Algorithm\": \"Linear Learner\", \"Host\": \"algo-1\", \"Operation\": \"training\", \"epoch\": 4, \"model\": 3}, \"Metrics\": {\"train_absolute_loss_objective\": {\"sum\": 0.8265956974029541, \"count\": 1, \"min\": 0.8265956974029541, \"max\": 0.8265956974029541}}}\u001b[0m\n",
      "\u001b[34m#metrics {\"StartTime\": 1725627903.5432787, \"EndTime\": 1725627903.5435128, \"Dimensions\": {\"Algorithm\": \"Linear Learner\", \"Host\": \"algo-1\", \"Operation\": \"training\", \"epoch\": 4, \"model\": 4}, \"Metrics\": {\"train_absolute_loss_objective\": {\"sum\": 0.23426069498062133, \"count\": 1, \"min\": 0.23426069498062133, \"max\": 0.23426069498062133}}}\u001b[0m\n",
      "\u001b[34m#metrics {\"StartTime\": 1725627903.5435724, \"EndTime\": 1725627903.5436041, \"Dimensions\": {\"Algorithm\": \"Linear Learner\", \"Host\": \"algo-1\", \"Operation\": \"training\", \"epoch\": 4, \"model\": 5}, \"Metrics\": {\"train_absolute_loss_objective\": {\"sum\": 0.23541247606277466, \"count\": 1, \"min\": 0.23541247606277466, \"max\": 0.23541247606277466}}}\u001b[0m\n",
      "\u001b[34m#metrics {\"StartTime\": 1725627903.5436482, \"EndTime\": 1725627903.5436823, \"Dimensions\": {\"Algorithm\": \"Linear Learner\", \"Host\": \"algo-1\", \"Operation\": \"training\", \"epoch\": 4, \"model\": 6}, \"Metrics\": {\"train_absolute_loss_objective\": {\"sum\": 0.2038970947265625, \"count\": 1, \"min\": 0.2038970947265625, \"max\": 0.2038970947265625}}}\u001b[0m\n",
      "\u001b[34m#metrics {\"StartTime\": 1725627903.5437663, \"EndTime\": 1725627903.5437791, \"Dimensions\": {\"Algorithm\": \"Linear Learner\", \"Host\": \"algo-1\", \"Operation\": \"training\", \"epoch\": 4, \"model\": 7}, \"Metrics\": {\"train_absolute_loss_objective\": {\"sum\": 0.31171767711639403, \"count\": 1, \"min\": 0.31171767711639403, \"max\": 0.31171767711639403}}}\u001b[0m\n",
      "\u001b[34m#metrics {\"StartTime\": 1725627903.5438762, \"EndTime\": 1725627903.543891, \"Dimensions\": {\"Algorithm\": \"Linear Learner\", \"Host\": \"algo-1\", \"Operation\": \"training\", \"epoch\": 4, \"model\": 8}, \"Metrics\": {\"train_absolute_loss_objective\": {\"sum\": 0.863789176940918, \"count\": 1, \"min\": 0.863789176940918, \"max\": 0.863789176940918}}}\u001b[0m\n",
      "\u001b[34m#metrics {\"StartTime\": 1725627903.5439932, \"EndTime\": 1725627903.5440094, \"Dimensions\": {\"Algorithm\": \"Linear Learner\", \"Host\": \"algo-1\", \"Operation\": \"training\", \"epoch\": 4, \"model\": 9}, \"Metrics\": {\"train_absolute_loss_objective\": {\"sum\": 0.7959681034088135, \"count\": 1, \"min\": 0.7959681034088135, \"max\": 0.7959681034088135}}}\u001b[0m\n",
      "\u001b[34m#metrics {\"StartTime\": 1725627903.5440748, \"EndTime\": 1725627903.544111, \"Dimensions\": {\"Algorithm\": \"Linear Learner\", \"Host\": \"algo-1\", \"Operation\": \"training\", \"epoch\": 4, \"model\": 10}, \"Metrics\": {\"train_absolute_loss_objective\": {\"sum\": 0.8031236743927002, \"count\": 1, \"min\": 0.8031236743927002, \"max\": 0.8031236743927002}}}\u001b[0m\n",
      "\u001b[34m#metrics {\"StartTime\": 1725627903.5441725, \"EndTime\": 1725627903.5441866, \"Dimensions\": {\"Algorithm\": \"Linear Learner\", \"Host\": \"algo-1\", \"Operation\": \"training\", \"epoch\": 4, \"model\": 11}, \"Metrics\": {\"train_absolute_loss_objective\": {\"sum\": 0.7879286956787109, \"count\": 1, \"min\": 0.7879286956787109, \"max\": 0.7879286956787109}}}\u001b[0m\n",
      "\u001b[34m#metrics {\"StartTime\": 1725627903.544291, \"EndTime\": 1725627903.5443056, \"Dimensions\": {\"Algorithm\": \"Linear Learner\", \"Host\": \"algo-1\", \"Operation\": \"training\", \"epoch\": 4, \"model\": 12}, \"Metrics\": {\"train_absolute_loss_objective\": {\"sum\": 0.22907342195510863, \"count\": 1, \"min\": 0.22907342195510863, \"max\": 0.22907342195510863}}}\u001b[0m\n",
      "\u001b[34m#metrics {\"StartTime\": 1725627903.5444093, \"EndTime\": 1725627903.5444245, \"Dimensions\": {\"Algorithm\": \"Linear Learner\", \"Host\": \"algo-1\", \"Operation\": \"training\", \"epoch\": 4, \"model\": 13}, \"Metrics\": {\"train_absolute_loss_objective\": {\"sum\": 0.23986995697021485, \"count\": 1, \"min\": 0.23986995697021485, \"max\": 0.23986995697021485}}}\u001b[0m\n",
      "\u001b[34m#metrics {\"StartTime\": 1725627903.544488, \"EndTime\": 1725627903.5444999, \"Dimensions\": {\"Algorithm\": \"Linear Learner\", \"Host\": \"algo-1\", \"Operation\": \"training\", \"epoch\": 4, \"model\": 14}, \"Metrics\": {\"train_absolute_loss_objective\": {\"sum\": 0.21544867753982544, \"count\": 1, \"min\": 0.21544867753982544, \"max\": 0.21544867753982544}}}\u001b[0m\n",
      "\u001b[34m#metrics {\"StartTime\": 1725627903.5445602, \"EndTime\": 1725627903.5445888, \"Dimensions\": {\"Algorithm\": \"Linear Learner\", \"Host\": \"algo-1\", \"Operation\": \"training\", \"epoch\": 4, \"model\": 15}, \"Metrics\": {\"train_absolute_loss_objective\": {\"sum\": 0.23721142292022704, \"count\": 1, \"min\": 0.23721142292022704, \"max\": 0.23721142292022704}}}\u001b[0m\n",
      "\u001b[34m#metrics {\"StartTime\": 1725627903.544633, \"EndTime\": 1725627903.5446641, \"Dimensions\": {\"Algorithm\": \"Linear Learner\", \"Host\": \"algo-1\", \"Operation\": \"training\", \"epoch\": 4, \"model\": 16}, \"Metrics\": {\"train_absolute_loss_objective\": {\"sum\": 0.7743972015380859, \"count\": 1, \"min\": 0.7743972015380859, \"max\": 0.7743972015380859}}}\u001b[0m\n",
      "\u001b[34m#metrics {\"StartTime\": 1725627903.5447476, \"EndTime\": 1725627903.5447602, \"Dimensions\": {\"Algorithm\": \"Linear Learner\", \"Host\": \"algo-1\", \"Operation\": \"training\", \"epoch\": 4, \"model\": 17}, \"Metrics\": {\"train_absolute_loss_objective\": {\"sum\": 0.8238444519042969, \"count\": 1, \"min\": 0.8238444519042969, \"max\": 0.8238444519042969}}}\u001b[0m\n",
      "\u001b[34m#metrics {\"StartTime\": 1725627903.5448632, \"EndTime\": 1725627903.544879, \"Dimensions\": {\"Algorithm\": \"Linear Learner\", \"Host\": \"algo-1\", \"Operation\": \"training\", \"epoch\": 4, \"model\": 18}, \"Metrics\": {\"train_absolute_loss_objective\": {\"sum\": 0.8007580471038819, \"count\": 1, \"min\": 0.8007580471038819, \"max\": 0.8007580471038819}}}\u001b[0m\n",
      "\u001b[34m#metrics {\"StartTime\": 1725627903.5449424, \"EndTime\": 1725627903.5449686, \"Dimensions\": {\"Algorithm\": \"Linear Learner\", \"Host\": \"algo-1\", \"Operation\": \"training\", \"epoch\": 4, \"model\": 19}, \"Metrics\": {\"train_absolute_loss_objective\": {\"sum\": 0.7976219654083252, \"count\": 1, \"min\": 0.7976219654083252, \"max\": 0.7976219654083252}}}\u001b[0m\n",
      "\u001b[34m#metrics {\"StartTime\": 1725627903.5450103, \"EndTime\": 1725627903.5450635, \"Dimensions\": {\"Algorithm\": \"Linear Learner\", \"Host\": \"algo-1\", \"Operation\": \"training\", \"epoch\": 4, \"model\": 20}, \"Metrics\": {\"train_absolute_loss_objective\": {\"sum\": 0.32542996883392333, \"count\": 1, \"min\": 0.32542996883392333, \"max\": 0.32542996883392333}}}\u001b[0m\n",
      "\u001b[34m#metrics {\"StartTime\": 1725627903.5451255, \"EndTime\": 1725627903.5451396, \"Dimensions\": {\"Algorithm\": \"Linear Learner\", \"Host\": \"algo-1\", \"Operation\": \"training\", \"epoch\": 4, \"model\": 21}, \"Metrics\": {\"train_absolute_loss_objective\": {\"sum\": 0.4105641651153564, \"count\": 1, \"min\": 0.4105641651153564, \"max\": 0.4105641651153564}}}\u001b[0m\n",
      "\u001b[34m#metrics {\"StartTime\": 1725627903.5452962, \"EndTime\": 1725627903.5453603, \"Dimensions\": {\"Algorithm\": \"Linear Learner\", \"Host\": \"algo-1\", \"Operation\": \"training\", \"epoch\": 4, \"model\": 22}, \"Metrics\": {\"train_absolute_loss_objective\": {\"sum\": 0.25845860481262206, \"count\": 1, \"min\": 0.25845860481262206, \"max\": 0.25845860481262206}}}\u001b[0m\n",
      "\u001b[34m#metrics {\"StartTime\": 1725627903.5454268, \"EndTime\": 1725627903.545464, \"Dimensions\": {\"Algorithm\": \"Linear Learner\", \"Host\": \"algo-1\", \"Operation\": \"training\", \"epoch\": 4, \"model\": 23}, \"Metrics\": {\"train_absolute_loss_objective\": {\"sum\": 0.35074281692504883, \"count\": 1, \"min\": 0.35074281692504883, \"max\": 0.35074281692504883}}}\u001b[0m\n",
      "\u001b[34m#metrics {\"StartTime\": 1725627903.545527, \"EndTime\": 1725627903.5455804, \"Dimensions\": {\"Algorithm\": \"Linear Learner\", \"Host\": \"algo-1\", \"Operation\": \"training\", \"epoch\": 4, \"model\": 24}, \"Metrics\": {\"train_absolute_loss_objective\": {\"sum\": 0.9029811954498291, \"count\": 1, \"min\": 0.9029811954498291, \"max\": 0.9029811954498291}}}\u001b[0m\n",
      "\u001b[34m#metrics {\"StartTime\": 1725627903.5456588, \"EndTime\": 1725627903.545673, \"Dimensions\": {\"Algorithm\": \"Linear Learner\", \"Host\": \"algo-1\", \"Operation\": \"training\", \"epoch\": 4, \"model\": 25}, \"Metrics\": {\"train_absolute_loss_objective\": {\"sum\": 0.884110631942749, \"count\": 1, \"min\": 0.884110631942749, \"max\": 0.884110631942749}}}\u001b[0m\n",
      "\u001b[34m#metrics {\"StartTime\": 1725627903.5457392, \"EndTime\": 1725627903.5457532, \"Dimensions\": {\"Algorithm\": \"Linear Learner\", \"Host\": \"algo-1\", \"Operation\": \"training\", \"epoch\": 4, \"model\": 26}, \"Metrics\": {\"train_absolute_loss_objective\": {\"sum\": 0.8936471557617187, \"count\": 1, \"min\": 0.8936471557617187, \"max\": 0.8936471557617187}}}\u001b[0m\n",
      "\u001b[34m#metrics {\"StartTime\": 1725627903.5458379, \"EndTime\": 1725627903.5458522, \"Dimensions\": {\"Algorithm\": \"Linear Learner\", \"Host\": \"algo-1\", \"Operation\": \"training\", \"epoch\": 4, \"model\": 27}, \"Metrics\": {\"train_absolute_loss_objective\": {\"sum\": 0.8916568946838379, \"count\": 1, \"min\": 0.8916568946838379, \"max\": 0.8916568946838379}}}\u001b[0m\n",
      "\u001b[34m#metrics {\"StartTime\": 1725627903.5459318, \"EndTime\": 1725627903.5459464, \"Dimensions\": {\"Algorithm\": \"Linear Learner\", \"Host\": \"algo-1\", \"Operation\": \"training\", \"epoch\": 4, \"model\": 28}, \"Metrics\": {\"train_absolute_loss_objective\": {\"sum\": 1.0163983917236328, \"count\": 1, \"min\": 1.0163983917236328, \"max\": 1.0163983917236328}}}\u001b[0m\n",
      "\u001b[34m#metrics {\"StartTime\": 1725627903.546041, \"EndTime\": 1725627903.5460567, \"Dimensions\": {\"Algorithm\": \"Linear Learner\", \"Host\": \"algo-1\", \"Operation\": \"training\", \"epoch\": 4, \"model\": 29}, \"Metrics\": {\"train_absolute_loss_objective\": {\"sum\": 1.0185599517822266, \"count\": 1, \"min\": 1.0185599517822266, \"max\": 1.0185599517822266}}}\u001b[0m\n",
      "\u001b[34m#metrics {\"StartTime\": 1725627903.5461419, \"EndTime\": 1725627903.5461566, \"Dimensions\": {\"Algorithm\": \"Linear Learner\", \"Host\": \"algo-1\", \"Operation\": \"training\", \"epoch\": 4, \"model\": 30}, \"Metrics\": {\"train_absolute_loss_objective\": {\"sum\": 0.9084714126586914, \"count\": 1, \"min\": 0.9084714126586914, \"max\": 0.9084714126586914}}}\u001b[0m\n",
      "\u001b[34m#metrics {\"StartTime\": 1725627903.5462582, \"EndTime\": 1725627903.5462737, \"Dimensions\": {\"Algorithm\": \"Linear Learner\", \"Host\": \"algo-1\", \"Operation\": \"training\", \"epoch\": 4, \"model\": 31}, \"Metrics\": {\"train_absolute_loss_objective\": {\"sum\": 0.9060484218597412, \"count\": 1, \"min\": 0.9060484218597412, \"max\": 0.9060484218597412}}}\u001b[0m\n",
      "\u001b[34m[09/06/2024 13:05:03 INFO 139967254308672] #quality_metric: host=algo-1, epoch=4, train absolute_loss_objective <loss>=0.8083945465087891\u001b[0m\n",
      "\u001b[34m[09/06/2024 13:05:03 INFO 139967254308672] #early_stopping_criteria_metric: host=algo-1, epoch=4, criteria=absolute_loss_objective, value=0.2038970947265625\u001b[0m\n",
      "\u001b[34m[09/06/2024 13:05:03 INFO 139967254308672] Saving model for epoch: 4\u001b[0m\n",
      "\u001b[34m[09/06/2024 13:05:03 INFO 139967254308672] Saved checkpoint to \"/tmp/tmpi4vrczq7/mx-mod-0000.params\"\u001b[0m\n",
      "\u001b[34m[09/06/2024 13:05:03 INFO 139967254308672] #progress_metric: host=algo-1, completed 100.0 % of epochs\u001b[0m\n",
      "\u001b[34m#metrics {\"StartTime\": 1725627903.4084864, \"EndTime\": 1725627903.5579321, \"Dimensions\": {\"Algorithm\": \"Linear Learner\", \"Host\": \"algo-1\", \"Operation\": \"training\", \"epoch\": 4, \"Meta\": \"training_data_iter\"}, \"Metrics\": {\"Total Records Seen\": {\"sum\": 173.0, \"count\": 1, \"min\": 173, \"max\": 173}, \"Total Batches Seen\": {\"sum\": 37.0, \"count\": 1, \"min\": 37, \"max\": 37}, \"Max Records Seen Between Resets\": {\"sum\": 28.0, \"count\": 1, \"min\": 28, \"max\": 28}, \"Max Batches Seen Between Resets\": {\"sum\": 6.0, \"count\": 1, \"min\": 6, \"max\": 6}, \"Reset Count\": {\"sum\": 7.0, \"count\": 1, \"min\": 7, \"max\": 7}, \"Number of Records Since Last Reset\": {\"sum\": 28.0, \"count\": 1, \"min\": 28, \"max\": 28}, \"Number of Batches Since Last Reset\": {\"sum\": 6.0, \"count\": 1, \"min\": 6, \"max\": 6}}}\u001b[0m\n",
      "\u001b[34m[09/06/2024 13:05:03 INFO 139967254308672] #throughput_metric: host=algo-1, train throughput=187.0259468704663 records/second\u001b[0m\n",
      "\u001b[34m[09/06/2024 13:05:03 WARNING 139967254308672] wait_for_all_workers will not sync workers since the kv store is not running distributed\u001b[0m\n",
      "\u001b[34m[09/06/2024 13:05:03 WARNING 139967254308672] wait_for_all_workers will not sync workers since the kv store is not running distributed\u001b[0m\n",
      "\u001b[34m[2024-09-06 13:05:03.559] [tensorio] [info] epoch_stats={\"data_pipeline\": \"/opt/ml/input/data/train\", \"epoch\": 14, \"duration\": 0, \"num_examples\": 1, \"num_bytes\": 240}\u001b[0m\n",
      "\u001b[34m[2024-09-06 13:05:03.573] [tensorio] [info] epoch_stats={\"data_pipeline\": \"/opt/ml/input/data/train\", \"epoch\": 16, \"duration\": 10, \"num_examples\": 6, \"num_bytes\": 1344}\u001b[0m\n",
      "\u001b[34m[09/06/2024 13:05:03 INFO 139967254308672] #train_score (algo-1) : ('absolute_loss_objective', 8302.53724888393)\u001b[0m\n",
      "\u001b[34m[09/06/2024 13:05:03 INFO 139967254308672] #train_score (algo-1) : ('mse', 93592426.28571428)\u001b[0m\n",
      "\u001b[34m[09/06/2024 13:05:03 INFO 139967254308672] #train_score (algo-1) : ('absolute_loss', 8302.53724888393)\u001b[0m\n",
      "\u001b[34m[09/06/2024 13:05:03 INFO 139967254308672] #train_score (algo-1) : ('rmse', 9674.317871856098)\u001b[0m\n",
      "\u001b[34m[09/06/2024 13:05:03 INFO 139967254308672] #train_score (algo-1) : ('r2', 0.8916721783995842)\u001b[0m\n",
      "\u001b[34m[09/06/2024 13:05:03 INFO 139967254308672] #train_score (algo-1) : ('mae', 8302.53724888393)\u001b[0m\n",
      "\u001b[34m[09/06/2024 13:05:03 INFO 139967254308672] #quality_metric: host=algo-1, train absolute_loss_objective <loss>=8302.53724888393\u001b[0m\n",
      "\u001b[34m[09/06/2024 13:05:03 INFO 139967254308672] #quality_metric: host=algo-1, train mse <loss>=93592426.28571428\u001b[0m\n",
      "\u001b[34m[09/06/2024 13:05:03 INFO 139967254308672] #quality_metric: host=algo-1, train absolute_loss <loss>=8302.53724888393\u001b[0m\n",
      "\u001b[34m[09/06/2024 13:05:03 INFO 139967254308672] #quality_metric: host=algo-1, train rmse <loss>=9674.317871856098\u001b[0m\n",
      "\u001b[34m[09/06/2024 13:05:03 INFO 139967254308672] #quality_metric: host=algo-1, train r2 <loss>=0.8916721783995842\u001b[0m\n",
      "\u001b[34m[09/06/2024 13:05:03 INFO 139967254308672] #quality_metric: host=algo-1, train mae <loss>=8302.53724888393\u001b[0m\n",
      "\u001b[34m[09/06/2024 13:05:03 INFO 139967254308672] Best model found for hyperparameters: {\"optimizer\": \"adam\", \"learning_rate\": 0.1, \"wd\": 0.01, \"l1\": 0.0, \"lr_scheduler_step\": 10, \"lr_scheduler_factor\": 0.99, \"lr_scheduler_minimum_lr\": 0.0001}\u001b[0m\n",
      "\u001b[34m[09/06/2024 13:05:03 INFO 139967254308672] Saved checkpoint to \"/tmp/tmpc3wygsng/mx-mod-0000.params\"\u001b[0m\n",
      "\u001b[34m[09/06/2024 13:05:03 INFO 139967254308672] Test data is not provided.\u001b[0m\n",
      "\u001b[34m#metrics {\"StartTime\": 1725627902.4974236, \"EndTime\": 1725627903.5850415, \"Dimensions\": {\"Algorithm\": \"Linear Learner\", \"Host\": \"algo-1\", \"Operation\": \"training\"}, \"Metrics\": {\"initialize.time\": {\"sum\": 218.65415573120117, \"count\": 1, \"min\": 218.65415573120117, \"max\": 218.65415573120117}, \"epochs\": {\"sum\": 5.0, \"count\": 1, \"min\": 5, \"max\": 5}, \"check_early_stopping.time\": {\"sum\": 8.72945785522461, \"count\": 5, \"min\": 0.3979206085205078, \"max\": 3.068685531616211}, \"update.time\": {\"sum\": 809.0572357177734, \"count\": 5, \"min\": 145.77746391296387, \"max\": 182.79457092285156}, \"finalize.time\": {\"sum\": 18.970251083374023, \"count\": 1, \"min\": 18.970251083374023, \"max\": 18.970251083374023}, \"setuptime\": {\"sum\": 2.2497177124023438, \"count\": 1, \"min\": 2.2497177124023438, \"max\": 2.2497177124023438}, \"totaltime\": {\"sum\": 1293.8306331634521, \"count\": 1, \"min\": 1293.8306331634521, \"max\": 1293.8306331634521}}}\u001b[0m\n",
      "\n",
      "2024-09-06 13:05:28 Uploading - Uploading generated training model\n",
      "2024-09-06 13:05:28 Completed - Training job completed\n",
      "Training seconds: 169\n",
      "Billable seconds: 169\n"
     ]
    }
   ],
   "source": [
    "# This code is used to get the training container of sagemaker built-in algorithms\n",
    "# we just have to specify the name of the algorithm we want to use\n",
    "# All regression models in sagemaker are called as estimators\n",
    "\n",
    "from sagemaker.amazon.amazon_estimator import image_uris\n",
    "\n",
    "container = image_uris.retrieve('linear-learner', boto3.Session().region_name)\n",
    "print(output_location)\n",
    "linear = sagemaker.estimator.Estimator(container,\n",
    "                                      role,\n",
    "                                      instance_count = 1,\n",
    "                                      instance_type = 'ml.m5.large',\n",
    "                                      output_path = output_location,\n",
    "                                      sagemaker_session = sagemaker_session,\n",
    "                                      train_use_spot_intances = True,\n",
    "                                      train_max_run = 300,\n",
    "                                      train_max_wait = 600)\n",
    "\n",
    "linear.set_hyperparameters(feature_dim = 1,\n",
    "                          predictor_type = 'regressor',\n",
    "                          mini_batch_size = 5,\n",
    "                          epochs = 5,\n",
    "                          num_models = 32,\n",
    "                          loss = 'absolute_loss')\n",
    "\n",
    "linear.fit({'train': s3_train_data})"
   ]
  },
  {
   "cell_type": "markdown",
   "id": "99b445a0",
   "metadata": {},
   "source": [
    "# Deploy and test trained linear model"
   ]
  },
  {
   "cell_type": "code",
   "execution_count": 102,
   "id": "980a2ab9",
   "metadata": {},
   "outputs": [
    {
     "name": "stderr",
     "output_type": "stream",
     "text": [
      "INFO:sagemaker:Creating model with name: linear-learner-2024-09-06-13-58-09-996\n",
      "INFO:sagemaker:Creating endpoint-config with name linear-learner-2024-09-06-13-58-09-996\n",
      "INFO:sagemaker:Creating endpoint with name linear-learner-2024-09-06-13-58-09-996\n"
     ]
    },
    {
     "name": "stdout",
     "output_type": "stream",
     "text": [
      "-------!"
     ]
    }
   ],
   "source": [
    "linear_regressor = linear.deploy(initial_instance_count = 1,\n",
    "                                instance_type = 'ml.m4.xlarge')"
   ]
  },
  {
   "cell_type": "code",
   "execution_count": 103,
   "id": "bf33b105",
   "metadata": {},
   "outputs": [],
   "source": [
    "from sagemaker.deserializers import JSONDeserializer\n",
    "from sagemaker.serializers import CSVSerializer\n",
    "\n",
    "\n",
    "linear_regressor.content_type = 'text/csv'\n",
    "linear_regressor.serializer = CSVSerializer()\n",
    "linear_regressor.deserializer = JSONDeserializer()"
   ]
  },
  {
   "cell_type": "code",
   "execution_count": 104,
   "id": "3f14f8e8",
   "metadata": {},
   "outputs": [
    {
     "data": {
      "text/plain": [
       "{'predictions': [{'score': 40394.515625},\n",
       "  {'score': 165282.96875},\n",
       "  {'score': 54964.8359375},\n",
       "  {'score': 115327.59375},\n",
       "  {'score': 63290.734375},\n",
       "  {'score': 45598.203125},\n",
       "  {'score': 152794.140625}]}"
      ]
     },
     "execution_count": 104,
     "metadata": {},
     "output_type": "execute_result"
    }
   ],
   "source": [
    "result = linear_regressor.predict(X_test)\n",
    "result # result in json format"
   ]
  },
  {
   "cell_type": "code",
   "execution_count": 105,
   "id": "5a87af3d",
   "metadata": {},
   "outputs": [
    {
     "data": {
      "text/plain": [
       "array([ 40394.515625 , 165282.96875  ,  54964.8359375, 115327.59375  ,\n",
       "        63290.734375 ,  45598.203125 , 152794.140625 ])"
      ]
     },
     "execution_count": 105,
     "metadata": {},
     "output_type": "execute_result"
    }
   ],
   "source": [
    "predictions = np.array([r['score'] for r in result['predictions']])\n",
    "predictions"
   ]
  },
  {
   "cell_type": "code",
   "execution_count": 106,
   "id": "917f6992",
   "metadata": {},
   "outputs": [
    {
     "data": {
      "text/plain": [
       "(7,)"
      ]
     },
     "execution_count": 106,
     "metadata": {},
     "output_type": "execute_result"
    }
   ],
   "source": [
    "predictions.shape"
   ]
  },
  {
   "cell_type": "code",
   "execution_count": 107,
   "id": "7597e581",
   "metadata": {},
   "outputs": [
    {
     "data": {
      "text/plain": [
       "Text(0.5, 1.0, 'Salary vs Years of experience')"
      ]
     },
     "execution_count": 107,
     "metadata": {},
     "output_type": "execute_result"
    },
    {
     "data": {
      "image/png": "[encoded data removed]",
      "text/plain": [
       "<Figure size 640x480 with 1 Axes>"
      ]
     },
     "metadata": {},
     "output_type": "display_data"
    }
   ],
   "source": [
    "# Visualize test result\n",
    "\n",
    "plt.scatter(X_test, Y_test, color = 'gray')\n",
    "plt.plot(X_test, predictions, color = 'red')\n",
    "plt.xlabel('Years of experience')\n",
    "plt.ylabel('Salary')\n",
    "plt.title('Salary vs Years of experience')"
   ]
  },
  {
   "cell_type": "code",
   "execution_count": 108,
   "id": "7dd7562e",
   "metadata": {},
   "outputs": [
    {
     "name": "stderr",
     "output_type": "stream",
     "text": [
      "INFO:sagemaker:Deleting endpoint configuration with name: linear-learner-2024-09-06-13-58-09-996\n",
      "INFO:sagemaker:Deleting endpoint with name: linear-learner-2024-09-06-13-58-09-996\n"
     ]
    }
   ],
   "source": [
    "linear_regressor.delete_endpoint()"
   ]
  }
 ],
 "metadata": {
  "kernelspec": {
   "display_name": "conda_python3",
   "language": "python",
   "name": "conda_python3"
  },
  "language_info": {
   "codemirror_mode": {
    "name": "ipython",
    "version": 3
   },
   "file_extension": ".py",
   "mimetype": "text/x-python",
   "name": "python",
   "nbconvert_exporter": "python",
   "pygments_lexer": "ipython3",
   "version": "3.10.14"
  }
 },
 "nbformat": 4,
 "nbformat_minor": 5
}
